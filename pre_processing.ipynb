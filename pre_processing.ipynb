{
 "cells": [
  {
   "cell_type": "code",
   "execution_count": 1,
   "id": "8052d19a-fb59-47c4-8521-a354cf918f5c",
   "metadata": {},
   "outputs": [],
   "source": [
    "import pandas as pd\n",
    "import numpy as np\n",
    "import seaborn as sns\n",
    "import matplotlib.pyplot as plt"
   ]
  },
  {
   "cell_type": "code",
   "execution_count": 3,
   "id": "88f7a817-444a-4bb5-b079-61d6b6fc5a13",
   "metadata": {},
   "outputs": [],
   "source": [
    "import os    #Stackoverflow \n",
    "os.environ['KMP_DUPLICATE_LIB_OK'] = 'TRUE'"
   ]
  },
  {
   "cell_type": "code",
   "execution_count": 5,
   "id": "38ac31d7-047f-4b04-a6bb-abf16000e492",
   "metadata": {},
   "outputs": [],
   "source": [
    "import warnings\n",
    "warnings.filterwarnings('ignore')"
   ]
  },
  {
   "cell_type": "markdown",
   "id": "d9133648-8c8f-48e9-8afe-f954754e6a28",
   "metadata": {},
   "source": [
    "# Verinin Betimlenmesi"
   ]
  },
  {
   "cell_type": "code",
   "execution_count": 7,
   "id": "7ee8e69f-695c-4511-a891-6cffa6c26738",
   "metadata": {},
   "outputs": [
    {
     "data": {
      "text/html": [
       "<div>\n",
       "<style scoped>\n",
       "    .dataframe tbody tr th:only-of-type {\n",
       "        vertical-align: middle;\n",
       "    }\n",
       "\n",
       "    .dataframe tbody tr th {\n",
       "        vertical-align: top;\n",
       "    }\n",
       "\n",
       "    .dataframe thead th {\n",
       "        text-align: right;\n",
       "    }\n",
       "</style>\n",
       "<table border=\"1\" class=\"dataframe\">\n",
       "  <thead>\n",
       "    <tr style=\"text-align: right;\">\n",
       "      <th></th>\n",
       "      <th>App</th>\n",
       "      <th>Category</th>\n",
       "      <th>Rating</th>\n",
       "      <th>Reviews</th>\n",
       "      <th>Size</th>\n",
       "      <th>Installs</th>\n",
       "      <th>Type</th>\n",
       "      <th>Price</th>\n",
       "      <th>Content Rating</th>\n",
       "      <th>Genres</th>\n",
       "      <th>Last Updated</th>\n",
       "      <th>Current Ver</th>\n",
       "      <th>Android Ver</th>\n",
       "    </tr>\n",
       "  </thead>\n",
       "  <tbody>\n",
       "    <tr>\n",
       "      <th>638</th>\n",
       "      <td>When Will You Get Married</td>\n",
       "      <td>DATING</td>\n",
       "      <td>NaN</td>\n",
       "      <td>2</td>\n",
       "      <td>3.6M</td>\n",
       "      <td>10+</td>\n",
       "      <td>Free</td>\n",
       "      <td>0</td>\n",
       "      <td>Everyone</td>\n",
       "      <td>Dating</td>\n",
       "      <td>July 14, 2018</td>\n",
       "      <td>1.0</td>\n",
       "      <td>4.0.3 and up</td>\n",
       "    </tr>\n",
       "    <tr>\n",
       "      <th>7688</th>\n",
       "      <td>CP Calculator</td>\n",
       "      <td>FAMILY</td>\n",
       "      <td>4.1</td>\n",
       "      <td>187</td>\n",
       "      <td>2.9M</td>\n",
       "      <td>10,000+</td>\n",
       "      <td>Free</td>\n",
       "      <td>0</td>\n",
       "      <td>Everyone</td>\n",
       "      <td>Entertainment</td>\n",
       "      <td>September 13, 2016</td>\n",
       "      <td>3.21</td>\n",
       "      <td>4.1 and up</td>\n",
       "    </tr>\n",
       "    <tr>\n",
       "      <th>5367</th>\n",
       "      <td>I am Bread</td>\n",
       "      <td>GAME</td>\n",
       "      <td>4.0</td>\n",
       "      <td>630</td>\n",
       "      <td>20M</td>\n",
       "      <td>10,000+</td>\n",
       "      <td>Paid</td>\n",
       "      <td>$4.99</td>\n",
       "      <td>Everyone</td>\n",
       "      <td>Adventure</td>\n",
       "      <td>October 26, 2016</td>\n",
       "      <td>1.6.1</td>\n",
       "      <td>4.4 and up</td>\n",
       "    </tr>\n",
       "    <tr>\n",
       "      <th>5308</th>\n",
       "      <td>AK Lodi Films</td>\n",
       "      <td>VIDEO_PLAYERS</td>\n",
       "      <td>4.9</td>\n",
       "      <td>23</td>\n",
       "      <td>2.1M</td>\n",
       "      <td>100+</td>\n",
       "      <td>Free</td>\n",
       "      <td>0</td>\n",
       "      <td>Everyone</td>\n",
       "      <td>Video Players &amp; Editors</td>\n",
       "      <td>August 11, 2015</td>\n",
       "      <td>1.1</td>\n",
       "      <td>4.0 and up</td>\n",
       "    </tr>\n",
       "    <tr>\n",
       "      <th>683</th>\n",
       "      <td>Random Video Chat App With Strangers</td>\n",
       "      <td>DATING</td>\n",
       "      <td>NaN</td>\n",
       "      <td>3</td>\n",
       "      <td>4.8M</td>\n",
       "      <td>1,000+</td>\n",
       "      <td>Free</td>\n",
       "      <td>0</td>\n",
       "      <td>Mature 17+</td>\n",
       "      <td>Dating</td>\n",
       "      <td>July 17, 2018</td>\n",
       "      <td>1.</td>\n",
       "      <td>4.0 and up</td>\n",
       "    </tr>\n",
       "    <tr>\n",
       "      <th>7792</th>\n",
       "      <td>Jetting for Honda CR dirt bike</td>\n",
       "      <td>SPORTS</td>\n",
       "      <td>4.1</td>\n",
       "      <td>7</td>\n",
       "      <td>3.4M</td>\n",
       "      <td>100+</td>\n",
       "      <td>Paid</td>\n",
       "      <td>$3.49</td>\n",
       "      <td>Everyone</td>\n",
       "      <td>Sports</td>\n",
       "      <td>April 13, 2016</td>\n",
       "      <td>2.2</td>\n",
       "      <td>3.0 and up</td>\n",
       "    </tr>\n",
       "    <tr>\n",
       "      <th>9972</th>\n",
       "      <td>EV Bon Dictionary</td>\n",
       "      <td>FAMILY</td>\n",
       "      <td>NaN</td>\n",
       "      <td>11</td>\n",
       "      <td>16M</td>\n",
       "      <td>500+</td>\n",
       "      <td>Free</td>\n",
       "      <td>0</td>\n",
       "      <td>Everyone</td>\n",
       "      <td>Education</td>\n",
       "      <td>October 28, 2017</td>\n",
       "      <td>2.0</td>\n",
       "      <td>4.0 and up</td>\n",
       "    </tr>\n",
       "    <tr>\n",
       "      <th>1420</th>\n",
       "      <td>Food Calorie Calculator</td>\n",
       "      <td>HEALTH_AND_FITNESS</td>\n",
       "      <td>4.2</td>\n",
       "      <td>1324</td>\n",
       "      <td>4.0M</td>\n",
       "      <td>100,000+</td>\n",
       "      <td>Free</td>\n",
       "      <td>0</td>\n",
       "      <td>Everyone</td>\n",
       "      <td>Health &amp; Fitness</td>\n",
       "      <td>January 29, 2018</td>\n",
       "      <td>10.2.0</td>\n",
       "      <td>4.0 and up</td>\n",
       "    </tr>\n",
       "    <tr>\n",
       "      <th>7323</th>\n",
       "      <td>CG Patwari Exam</td>\n",
       "      <td>FAMILY</td>\n",
       "      <td>3.8</td>\n",
       "      <td>28</td>\n",
       "      <td>4.1M</td>\n",
       "      <td>1,000+</td>\n",
       "      <td>Free</td>\n",
       "      <td>0</td>\n",
       "      <td>Teen</td>\n",
       "      <td>Education</td>\n",
       "      <td>October 23, 2017</td>\n",
       "      <td>7.2</td>\n",
       "      <td>2.3 and up</td>\n",
       "    </tr>\n",
       "    <tr>\n",
       "      <th>10492</th>\n",
       "      <td>4 x4 Offroad SUV 3D Truck Simulator Driving 2017</td>\n",
       "      <td>FAMILY</td>\n",
       "      <td>4.4</td>\n",
       "      <td>32</td>\n",
       "      <td>37M</td>\n",
       "      <td>1,000+</td>\n",
       "      <td>Free</td>\n",
       "      <td>0</td>\n",
       "      <td>Everyone</td>\n",
       "      <td>Simulation</td>\n",
       "      <td>December 6, 2017</td>\n",
       "      <td>1.0</td>\n",
       "      <td>2.3 and up</td>\n",
       "    </tr>\n",
       "  </tbody>\n",
       "</table>\n",
       "</div>"
      ],
      "text/plain": [
       "                                                    App            Category  \\\n",
       "638                           When Will You Get Married              DATING   \n",
       "7688                                      CP Calculator              FAMILY   \n",
       "5367                                         I am Bread                GAME   \n",
       "5308                                      AK Lodi Films       VIDEO_PLAYERS   \n",
       "683                Random Video Chat App With Strangers              DATING   \n",
       "7792                     Jetting for Honda CR dirt bike              SPORTS   \n",
       "9972                                  EV Bon Dictionary              FAMILY   \n",
       "1420                            Food Calorie Calculator  HEALTH_AND_FITNESS   \n",
       "7323                                    CG Patwari Exam              FAMILY   \n",
       "10492  4 x4 Offroad SUV 3D Truck Simulator Driving 2017              FAMILY   \n",
       "\n",
       "       Rating Reviews  Size  Installs  Type  Price Content Rating  \\\n",
       "638       NaN       2  3.6M       10+  Free      0       Everyone   \n",
       "7688      4.1     187  2.9M   10,000+  Free      0       Everyone   \n",
       "5367      4.0     630   20M   10,000+  Paid  $4.99       Everyone   \n",
       "5308      4.9      23  2.1M      100+  Free      0       Everyone   \n",
       "683       NaN       3  4.8M    1,000+  Free      0     Mature 17+   \n",
       "7792      4.1       7  3.4M      100+  Paid  $3.49       Everyone   \n",
       "9972      NaN      11   16M      500+  Free      0       Everyone   \n",
       "1420      4.2    1324  4.0M  100,000+  Free      0       Everyone   \n",
       "7323      3.8      28  4.1M    1,000+  Free      0           Teen   \n",
       "10492     4.4      32   37M    1,000+  Free      0       Everyone   \n",
       "\n",
       "                        Genres        Last Updated Current Ver   Android Ver  \n",
       "638                     Dating       July 14, 2018         1.0  4.0.3 and up  \n",
       "7688             Entertainment  September 13, 2016        3.21    4.1 and up  \n",
       "5367                 Adventure    October 26, 2016       1.6.1    4.4 and up  \n",
       "5308   Video Players & Editors     August 11, 2015         1.1    4.0 and up  \n",
       "683                     Dating       July 17, 2018          1.    4.0 and up  \n",
       "7792                    Sports      April 13, 2016         2.2    3.0 and up  \n",
       "9972                 Education    October 28, 2017         2.0    4.0 and up  \n",
       "1420          Health & Fitness    January 29, 2018      10.2.0    4.0 and up  \n",
       "7323                 Education    October 23, 2017         7.2    2.3 and up  \n",
       "10492               Simulation    December 6, 2017         1.0    2.3 and up  "
      ]
     },
     "execution_count": 7,
     "metadata": {},
     "output_type": "execute_result"
    }
   ],
   "source": [
    "df=pd.read_csv(\"googleplaystore.csv\")\n",
    "df.sample(n=10,random_state=30)"
   ]
  },
  {
   "cell_type": "code",
   "execution_count": 9,
   "id": "240df1a4-8c10-415f-98a2-89d4e046f2a1",
   "metadata": {},
   "outputs": [
    {
     "data": {
      "text/html": [
       "<div>\n",
       "<style scoped>\n",
       "    .dataframe tbody tr th:only-of-type {\n",
       "        vertical-align: middle;\n",
       "    }\n",
       "\n",
       "    .dataframe tbody tr th {\n",
       "        vertical-align: top;\n",
       "    }\n",
       "\n",
       "    .dataframe thead th {\n",
       "        text-align: right;\n",
       "    }\n",
       "</style>\n",
       "<table border=\"1\" class=\"dataframe\">\n",
       "  <thead>\n",
       "    <tr style=\"text-align: right;\">\n",
       "      <th></th>\n",
       "      <th>App</th>\n",
       "      <th>Category</th>\n",
       "      <th>Rating</th>\n",
       "      <th>Reviews</th>\n",
       "      <th>Size</th>\n",
       "      <th>Installs</th>\n",
       "      <th>Type</th>\n",
       "      <th>Price</th>\n",
       "      <th>Content Rating</th>\n",
       "      <th>Genres</th>\n",
       "      <th>Last Updated</th>\n",
       "      <th>Current Ver</th>\n",
       "      <th>Android Ver</th>\n",
       "    </tr>\n",
       "  </thead>\n",
       "  <tbody>\n",
       "    <tr>\n",
       "      <th>638</th>\n",
       "      <td>When Will You Get Married</td>\n",
       "      <td>DATING</td>\n",
       "      <td>NaN</td>\n",
       "      <td>2</td>\n",
       "      <td>3.6M</td>\n",
       "      <td>10+</td>\n",
       "      <td>Free</td>\n",
       "      <td>0</td>\n",
       "      <td>Everyone</td>\n",
       "      <td>Dating</td>\n",
       "      <td>July 14, 2018</td>\n",
       "      <td>1.0</td>\n",
       "      <td>4.0.3 and up</td>\n",
       "    </tr>\n",
       "    <tr>\n",
       "      <th>7688</th>\n",
       "      <td>CP Calculator</td>\n",
       "      <td>FAMILY</td>\n",
       "      <td>4.1</td>\n",
       "      <td>187</td>\n",
       "      <td>2.9M</td>\n",
       "      <td>10,000+</td>\n",
       "      <td>Free</td>\n",
       "      <td>0</td>\n",
       "      <td>Everyone</td>\n",
       "      <td>Entertainment</td>\n",
       "      <td>September 13, 2016</td>\n",
       "      <td>3.21</td>\n",
       "      <td>4.1 and up</td>\n",
       "    </tr>\n",
       "    <tr>\n",
       "      <th>5367</th>\n",
       "      <td>I am Bread</td>\n",
       "      <td>GAME</td>\n",
       "      <td>4.0</td>\n",
       "      <td>630</td>\n",
       "      <td>20M</td>\n",
       "      <td>10,000+</td>\n",
       "      <td>Paid</td>\n",
       "      <td>$4.99</td>\n",
       "      <td>Everyone</td>\n",
       "      <td>Adventure</td>\n",
       "      <td>October 26, 2016</td>\n",
       "      <td>1.6.1</td>\n",
       "      <td>4.4 and up</td>\n",
       "    </tr>\n",
       "    <tr>\n",
       "      <th>5308</th>\n",
       "      <td>AK Lodi Films</td>\n",
       "      <td>VIDEO_PLAYERS</td>\n",
       "      <td>4.9</td>\n",
       "      <td>23</td>\n",
       "      <td>2.1M</td>\n",
       "      <td>100+</td>\n",
       "      <td>Free</td>\n",
       "      <td>0</td>\n",
       "      <td>Everyone</td>\n",
       "      <td>Video Players &amp; Editors</td>\n",
       "      <td>August 11, 2015</td>\n",
       "      <td>1.1</td>\n",
       "      <td>4.0 and up</td>\n",
       "    </tr>\n",
       "    <tr>\n",
       "      <th>683</th>\n",
       "      <td>Random Video Chat App With Strangers</td>\n",
       "      <td>DATING</td>\n",
       "      <td>NaN</td>\n",
       "      <td>3</td>\n",
       "      <td>4.8M</td>\n",
       "      <td>1,000+</td>\n",
       "      <td>Free</td>\n",
       "      <td>0</td>\n",
       "      <td>Mature 17+</td>\n",
       "      <td>Dating</td>\n",
       "      <td>July 17, 2018</td>\n",
       "      <td>1.</td>\n",
       "      <td>4.0 and up</td>\n",
       "    </tr>\n",
       "    <tr>\n",
       "      <th>7792</th>\n",
       "      <td>Jetting for Honda CR dirt bike</td>\n",
       "      <td>SPORTS</td>\n",
       "      <td>4.1</td>\n",
       "      <td>7</td>\n",
       "      <td>3.4M</td>\n",
       "      <td>100+</td>\n",
       "      <td>Paid</td>\n",
       "      <td>$3.49</td>\n",
       "      <td>Everyone</td>\n",
       "      <td>Sports</td>\n",
       "      <td>April 13, 2016</td>\n",
       "      <td>2.2</td>\n",
       "      <td>3.0 and up</td>\n",
       "    </tr>\n",
       "    <tr>\n",
       "      <th>9972</th>\n",
       "      <td>EV Bon Dictionary</td>\n",
       "      <td>FAMILY</td>\n",
       "      <td>NaN</td>\n",
       "      <td>11</td>\n",
       "      <td>16M</td>\n",
       "      <td>500+</td>\n",
       "      <td>Free</td>\n",
       "      <td>0</td>\n",
       "      <td>Everyone</td>\n",
       "      <td>Education</td>\n",
       "      <td>October 28, 2017</td>\n",
       "      <td>2.0</td>\n",
       "      <td>4.0 and up</td>\n",
       "    </tr>\n",
       "    <tr>\n",
       "      <th>1420</th>\n",
       "      <td>Food Calorie Calculator</td>\n",
       "      <td>HEALTH_AND_FITNESS</td>\n",
       "      <td>4.2</td>\n",
       "      <td>1324</td>\n",
       "      <td>4.0M</td>\n",
       "      <td>100,000+</td>\n",
       "      <td>Free</td>\n",
       "      <td>0</td>\n",
       "      <td>Everyone</td>\n",
       "      <td>Health &amp; Fitness</td>\n",
       "      <td>January 29, 2018</td>\n",
       "      <td>10.2.0</td>\n",
       "      <td>4.0 and up</td>\n",
       "    </tr>\n",
       "    <tr>\n",
       "      <th>7323</th>\n",
       "      <td>CG Patwari Exam</td>\n",
       "      <td>FAMILY</td>\n",
       "      <td>3.8</td>\n",
       "      <td>28</td>\n",
       "      <td>4.1M</td>\n",
       "      <td>1,000+</td>\n",
       "      <td>Free</td>\n",
       "      <td>0</td>\n",
       "      <td>Teen</td>\n",
       "      <td>Education</td>\n",
       "      <td>October 23, 2017</td>\n",
       "      <td>7.2</td>\n",
       "      <td>2.3 and up</td>\n",
       "    </tr>\n",
       "    <tr>\n",
       "      <th>10492</th>\n",
       "      <td>4 x4 Offroad SUV 3D Truck Simulator Driving 2017</td>\n",
       "      <td>FAMILY</td>\n",
       "      <td>4.4</td>\n",
       "      <td>32</td>\n",
       "      <td>37M</td>\n",
       "      <td>1,000+</td>\n",
       "      <td>Free</td>\n",
       "      <td>0</td>\n",
       "      <td>Everyone</td>\n",
       "      <td>Simulation</td>\n",
       "      <td>December 6, 2017</td>\n",
       "      <td>1.0</td>\n",
       "      <td>2.3 and up</td>\n",
       "    </tr>\n",
       "  </tbody>\n",
       "</table>\n",
       "</div>"
      ],
      "text/plain": [
       "                                                    App            Category  \\\n",
       "638                           When Will You Get Married              DATING   \n",
       "7688                                      CP Calculator              FAMILY   \n",
       "5367                                         I am Bread                GAME   \n",
       "5308                                      AK Lodi Films       VIDEO_PLAYERS   \n",
       "683                Random Video Chat App With Strangers              DATING   \n",
       "7792                     Jetting for Honda CR dirt bike              SPORTS   \n",
       "9972                                  EV Bon Dictionary              FAMILY   \n",
       "1420                            Food Calorie Calculator  HEALTH_AND_FITNESS   \n",
       "7323                                    CG Patwari Exam              FAMILY   \n",
       "10492  4 x4 Offroad SUV 3D Truck Simulator Driving 2017              FAMILY   \n",
       "\n",
       "       Rating Reviews  Size  Installs  Type  Price Content Rating  \\\n",
       "638       NaN       2  3.6M       10+  Free      0       Everyone   \n",
       "7688      4.1     187  2.9M   10,000+  Free      0       Everyone   \n",
       "5367      4.0     630   20M   10,000+  Paid  $4.99       Everyone   \n",
       "5308      4.9      23  2.1M      100+  Free      0       Everyone   \n",
       "683       NaN       3  4.8M    1,000+  Free      0     Mature 17+   \n",
       "7792      4.1       7  3.4M      100+  Paid  $3.49       Everyone   \n",
       "9972      NaN      11   16M      500+  Free      0       Everyone   \n",
       "1420      4.2    1324  4.0M  100,000+  Free      0       Everyone   \n",
       "7323      3.8      28  4.1M    1,000+  Free      0           Teen   \n",
       "10492     4.4      32   37M    1,000+  Free      0       Everyone   \n",
       "\n",
       "                        Genres        Last Updated Current Ver   Android Ver  \n",
       "638                     Dating       July 14, 2018         1.0  4.0.3 and up  \n",
       "7688             Entertainment  September 13, 2016        3.21    4.1 and up  \n",
       "5367                 Adventure    October 26, 2016       1.6.1    4.4 and up  \n",
       "5308   Video Players & Editors     August 11, 2015         1.1    4.0 and up  \n",
       "683                     Dating       July 17, 2018          1.    4.0 and up  \n",
       "7792                    Sports      April 13, 2016         2.2    3.0 and up  \n",
       "9972                 Education    October 28, 2017         2.0    4.0 and up  \n",
       "1420          Health & Fitness    January 29, 2018      10.2.0    4.0 and up  \n",
       "7323                 Education    October 23, 2017         7.2    2.3 and up  \n",
       "10492               Simulation    December 6, 2017         1.0    2.3 and up  "
      ]
     },
     "execution_count": 9,
     "metadata": {},
     "output_type": "execute_result"
    }
   ],
   "source": [
    "df.sample(n=10,random_state=30)"
   ]
  },
  {
   "cell_type": "code",
   "execution_count": 11,
   "id": "9acee7ce-10f4-49a1-8210-0aecb7122851",
   "metadata": {},
   "outputs": [
    {
     "name": "stdout",
     "output_type": "stream",
     "text": [
      "<class 'pandas.core.frame.DataFrame'>\n",
      "RangeIndex: 10841 entries, 0 to 10840\n",
      "Data columns (total 13 columns):\n",
      " #   Column          Non-Null Count  Dtype  \n",
      "---  ------          --------------  -----  \n",
      " 0   App             10841 non-null  object \n",
      " 1   Category        10841 non-null  object \n",
      " 2   Rating          9367 non-null   float64\n",
      " 3   Reviews         10841 non-null  object \n",
      " 4   Size            10841 non-null  object \n",
      " 5   Installs        10841 non-null  object \n",
      " 6   Type            10840 non-null  object \n",
      " 7   Price           10841 non-null  object \n",
      " 8   Content Rating  10840 non-null  object \n",
      " 9   Genres          10841 non-null  object \n",
      " 10  Last Updated    10841 non-null  object \n",
      " 11  Current Ver     10833 non-null  object \n",
      " 12  Android Ver     10838 non-null  object \n",
      "dtypes: float64(1), object(12)\n",
      "memory usage: 1.1+ MB\n"
     ]
    }
   ],
   "source": [
    "df.info()#Reviews Size,İnstalls,Price Değişkenlerinin Düzenlenip Float türüne getirilmesi gerekiyor"
   ]
  },
  {
   "cell_type": "markdown",
   "id": "b9d05e32-5401-42aa-8aee-d48ec5e1bd20",
   "metadata": {},
   "source": [
    "## Yanlış ve değiştirilmesi gereken verilerin belirlenmesi"
   ]
  },
  {
   "cell_type": "code",
   "execution_count": 13,
   "id": "9d4bde0e-db28-4d0c-b19f-73ac7fd068ef",
   "metadata": {},
   "outputs": [
    {
     "data": {
      "text/plain": [
       "Category\n",
       "FAMILY                 1972\n",
       "GAME                   1144\n",
       "TOOLS                   843\n",
       "MEDICAL                 463\n",
       "BUSINESS                460\n",
       "PRODUCTIVITY            424\n",
       "PERSONALIZATION         392\n",
       "COMMUNICATION           387\n",
       "SPORTS                  384\n",
       "LIFESTYLE               382\n",
       "FINANCE                 366\n",
       "HEALTH_AND_FITNESS      341\n",
       "PHOTOGRAPHY             335\n",
       "SOCIAL                  295\n",
       "NEWS_AND_MAGAZINES      283\n",
       "SHOPPING                260\n",
       "TRAVEL_AND_LOCAL        258\n",
       "DATING                  234\n",
       "BOOKS_AND_REFERENCE     231\n",
       "VIDEO_PLAYERS           175\n",
       "EDUCATION               156\n",
       "ENTERTAINMENT           149\n",
       "MAPS_AND_NAVIGATION     137\n",
       "FOOD_AND_DRINK          127\n",
       "HOUSE_AND_HOME           88\n",
       "LIBRARIES_AND_DEMO       85\n",
       "AUTO_AND_VEHICLES        85\n",
       "WEATHER                  82\n",
       "ART_AND_DESIGN           65\n",
       "EVENTS                   64\n",
       "PARENTING                60\n",
       "COMICS                   60\n",
       "BEAUTY                   53\n",
       "1.9                       1\n",
       "Name: count, dtype: int64"
      ]
     },
     "execution_count": 13,
     "metadata": {},
     "output_type": "execute_result"
    }
   ],
   "source": [
    "df[\"Category\"].value_counts()#Bu değişkende 1.9 değeri yanlış bir değerdir"
   ]
  },
  {
   "cell_type": "code",
   "execution_count": 15,
   "id": "e065af9f-ea03-4112-b2ed-8d6630b4b4a7",
   "metadata": {
    "scrolled": true
   },
   "outputs": [
    {
     "data": {
      "text/plain": [
       "array(['19M', '14M', '8.7M', '25M', '2.8M', '5.6M', '29M', '33M', '3.1M',\n",
       "       '28M', '12M', '20M', '21M', '37M', '2.7M', '5.5M', '17M', '39M',\n",
       "       '31M', '4.2M', '7.0M', '23M', '6.0M', '6.1M', '4.6M', '9.2M',\n",
       "       '5.2M', '11M', '24M', 'Varies with device', '9.4M', '15M', '10M',\n",
       "       '1.2M', '26M', '8.0M', '7.9M', '56M', '57M', '35M', '54M', '201k',\n",
       "       '3.6M', '5.7M', '8.6M', '2.4M', '27M', '2.5M', '16M', '3.4M',\n",
       "       '8.9M', '3.9M', '2.9M', '38M', '32M', '5.4M', '18M', '1.1M',\n",
       "       '2.2M', '4.5M', '9.8M', '52M', '9.0M', '6.7M', '30M', '2.6M',\n",
       "       '7.1M', '3.7M', '22M', '7.4M', '6.4M', '3.2M', '8.2M', '9.9M',\n",
       "       '4.9M', '9.5M', '5.0M', '5.9M', '13M', '73M', '6.8M', '3.5M',\n",
       "       '4.0M', '2.3M', '7.2M', '2.1M', '42M', '7.3M', '9.1M', '55M',\n",
       "       '23k', '6.5M', '1.5M', '7.5M', '51M', '41M', '48M', '8.5M', '46M',\n",
       "       '8.3M', '4.3M', '4.7M', '3.3M', '40M', '7.8M', '8.8M', '6.6M',\n",
       "       '5.1M', '61M', '66M', '79k', '8.4M', '118k', '44M', '695k', '1.6M',\n",
       "       '6.2M', '18k', '53M', '1.4M', '3.0M', '5.8M', '3.8M', '9.6M',\n",
       "       '45M', '63M', '49M', '77M', '4.4M', '4.8M', '70M', '6.9M', '9.3M',\n",
       "       '10.0M', '8.1M', '36M', '84M', '97M', '2.0M', '1.9M', '1.8M',\n",
       "       '5.3M', '47M', '556k', '526k', '76M', '7.6M', '59M', '9.7M', '78M',\n",
       "       '72M', '43M', '7.7M', '6.3M', '334k', '34M', '93M', '65M', '79M',\n",
       "       '100M', '58M', '50M', '68M', '64M', '67M', '60M', '94M', '232k',\n",
       "       '99M', '624k', '95M', '8.5k', '41k', '292k', '11k', '80M', '1.7M',\n",
       "       '74M', '62M', '69M', '75M', '98M', '85M', '82M', '96M', '87M',\n",
       "       '71M', '86M', '91M', '81M', '92M', '83M', '88M', '704k', '862k',\n",
       "       '899k', '378k', '266k', '375k', '1.3M', '975k', '980k', '4.1M',\n",
       "       '89M', '696k', '544k', '525k', '920k', '779k', '853k', '720k',\n",
       "       '713k', '772k', '318k', '58k', '241k', '196k', '857k', '51k',\n",
       "       '953k', '865k', '251k', '930k', '540k', '313k', '746k', '203k',\n",
       "       '26k', '314k', '239k', '371k', '220k', '730k', '756k', '91k',\n",
       "       '293k', '17k', '74k', '14k', '317k', '78k', '924k', '902k', '818k',\n",
       "       '81k', '939k', '169k', '45k', '475k', '965k', '90M', '545k', '61k',\n",
       "       '283k', '655k', '714k', '93k', '872k', '121k', '322k', '1.0M',\n",
       "       '976k', '172k', '238k', '549k', '206k', '954k', '444k', '717k',\n",
       "       '210k', '609k', '308k', '705k', '306k', '904k', '473k', '175k',\n",
       "       '350k', '383k', '454k', '421k', '70k', '812k', '442k', '842k',\n",
       "       '417k', '412k', '459k', '478k', '335k', '782k', '721k', '430k',\n",
       "       '429k', '192k', '200k', '460k', '728k', '496k', '816k', '414k',\n",
       "       '506k', '887k', '613k', '243k', '569k', '778k', '683k', '592k',\n",
       "       '319k', '186k', '840k', '647k', '191k', '373k', '437k', '598k',\n",
       "       '716k', '585k', '982k', '222k', '219k', '55k', '948k', '323k',\n",
       "       '691k', '511k', '951k', '963k', '25k', '554k', '351k', '27k',\n",
       "       '82k', '208k', '913k', '514k', '551k', '29k', '103k', '898k',\n",
       "       '743k', '116k', '153k', '209k', '353k', '499k', '173k', '597k',\n",
       "       '809k', '122k', '411k', '400k', '801k', '787k', '237k', '50k',\n",
       "       '643k', '986k', '97k', '516k', '837k', '780k', '961k', '269k',\n",
       "       '20k', '498k', '600k', '749k', '642k', '881k', '72k', '656k',\n",
       "       '601k', '221k', '228k', '108k', '940k', '176k', '33k', '663k',\n",
       "       '34k', '942k', '259k', '164k', '458k', '245k', '629k', '28k',\n",
       "       '288k', '775k', '785k', '636k', '916k', '994k', '309k', '485k',\n",
       "       '914k', '903k', '608k', '500k', '54k', '562k', '847k', '957k',\n",
       "       '688k', '811k', '270k', '48k', '329k', '523k', '921k', '874k',\n",
       "       '981k', '784k', '280k', '24k', '518k', '754k', '892k', '154k',\n",
       "       '860k', '364k', '387k', '626k', '161k', '879k', '39k', '970k',\n",
       "       '170k', '141k', '160k', '144k', '143k', '190k', '376k', '193k',\n",
       "       '246k', '73k', '658k', '992k', '253k', '420k', '404k', '1,000+',\n",
       "       '470k', '226k', '240k', '89k', '234k', '257k', '861k', '467k',\n",
       "       '157k', '44k', '676k', '67k', '552k', '885k', '1020k', '582k',\n",
       "       '619k'], dtype=object)"
      ]
     },
     "execution_count": 15,
     "metadata": {},
     "output_type": "execute_result"
    }
   ],
   "source": [
    "df[\"Size\"].unique()#Varies with device değişkenini değiştirmemiz gerkecektir"
   ]
  },
  {
   "cell_type": "code",
   "execution_count": 17,
   "id": "973ebcee-bd08-4bea-8cc3-b1afa9bdf631",
   "metadata": {},
   "outputs": [
    {
     "data": {
      "text/plain": [
       "Installs\n",
       "1,000,000+        1579\n",
       "10,000,000+       1252\n",
       "100,000+          1169\n",
       "10,000+           1054\n",
       "1,000+             907\n",
       "5,000,000+         752\n",
       "100+               719\n",
       "500,000+           539\n",
       "50,000+            479\n",
       "5,000+             477\n",
       "100,000,000+       409\n",
       "10+                386\n",
       "500+               330\n",
       "50,000,000+        289\n",
       "50+                205\n",
       "5+                  82\n",
       "500,000,000+        72\n",
       "1+                  67\n",
       "1,000,000,000+      58\n",
       "0+                  14\n",
       "0                    1\n",
       "Free                 1\n",
       "Name: count, dtype: int64"
      ]
     },
     "execution_count": 17,
     "metadata": {},
     "output_type": "execute_result"
    }
   ],
   "source": [
    "df[\"Installs\"].value_counts()#Free değeri ve 0+ değerini değiştirmemiz gerekecektir"
   ]
  },
  {
   "cell_type": "code",
   "execution_count": 19,
   "id": "4fa46c9c-9b40-4305-8473-98b47b6801c4",
   "metadata": {},
   "outputs": [
    {
     "data": {
      "text/plain": [
       "Type\n",
       "Free    10039\n",
       "Paid      800\n",
       "0           1\n",
       "Name: count, dtype: int64"
      ]
     },
     "execution_count": 19,
     "metadata": {},
     "output_type": "execute_result"
    }
   ],
   "source": [
    "df[\"Type\"].value_counts()#0 değeri yanlış bir değerdir"
   ]
  },
  {
   "cell_type": "code",
   "execution_count": 21,
   "id": "c957045a-ec71-48ae-bbf9-bac3e9623302",
   "metadata": {},
   "outputs": [
    {
     "data": {
      "text/plain": [
       "array(['0', '$4.99', '$3.99', '$6.99', '$1.49', '$2.99', '$7.99', '$5.99',\n",
       "       '$3.49', '$1.99', '$9.99', '$7.49', '$0.99', '$9.00', '$5.49',\n",
       "       '$10.00', '$24.99', '$11.99', '$79.99', '$16.99', '$14.99',\n",
       "       '$1.00', '$29.99', '$12.99', '$2.49', '$10.99', '$1.50', '$19.99',\n",
       "       '$15.99', '$33.99', '$74.99', '$39.99', '$3.95', '$4.49', '$1.70',\n",
       "       '$8.99', '$2.00', '$3.88', '$25.99', '$399.99', '$17.99',\n",
       "       '$400.00', '$3.02', '$1.76', '$4.84', '$4.77', '$1.61', '$2.50',\n",
       "       '$1.59', '$6.49', '$1.29', '$5.00', '$13.99', '$299.99', '$379.99',\n",
       "       '$37.99', '$18.99', '$389.99', '$19.90', '$8.49', '$1.75',\n",
       "       '$14.00', '$4.85', '$46.99', '$109.99', '$154.99', '$3.08',\n",
       "       '$2.59', '$4.80', '$1.96', '$19.40', '$3.90', '$4.59', '$15.46',\n",
       "       '$3.04', '$4.29', '$2.60', '$3.28', '$4.60', '$28.99', '$2.95',\n",
       "       '$2.90', '$1.97', '$200.00', '$89.99', '$2.56', '$30.99', '$3.61',\n",
       "       '$394.99', '$1.26', 'Everyone', '$1.20', '$1.04'], dtype=object)"
      ]
     },
     "execution_count": 21,
     "metadata": {},
     "output_type": "execute_result"
    }
   ],
   "source": [
    "df[\"Price\"].unique()#Everyone değeri yanlış bir değerdir"
   ]
  },
  {
   "cell_type": "code",
   "execution_count": 23,
   "id": "cef4da16-ac06-4a40-947f-f5e9c17a5926",
   "metadata": {},
   "outputs": [
    {
     "data": {
      "text/plain": [
       "Content Rating\n",
       "Everyone           8714\n",
       "Teen               1208\n",
       "Mature 17+          499\n",
       "Everyone 10+        414\n",
       "Adults only 18+       3\n",
       "Unrated               2\n",
       "Name: count, dtype: int64"
      ]
     },
     "execution_count": 23,
     "metadata": {},
     "output_type": "execute_result"
    }
   ],
   "source": [
    "df[\"Content Rating\"].value_counts()#Unrated değerini incelememiz gerekecek"
   ]
  },
  {
   "cell_type": "code",
   "execution_count": 25,
   "id": "2daec7de-6394-4e7a-90f8-3c20475c5778",
   "metadata": {},
   "outputs": [
    {
     "data": {
      "text/plain": [
       "array(['Art & Design', 'Art & Design;Pretend Play',\n",
       "       'Art & Design;Creativity', 'Art & Design;Action & Adventure',\n",
       "       'Auto & Vehicles', 'Beauty', 'Books & Reference', 'Business',\n",
       "       'Comics', 'Comics;Creativity', 'Communication', 'Dating',\n",
       "       'Education;Education', 'Education', 'Education;Creativity',\n",
       "       'Education;Music & Video', 'Education;Action & Adventure',\n",
       "       'Education;Pretend Play', 'Education;Brain Games', 'Entertainment',\n",
       "       'Entertainment;Music & Video', 'Entertainment;Brain Games',\n",
       "       'Entertainment;Creativity', 'Events', 'Finance', 'Food & Drink',\n",
       "       'Health & Fitness', 'House & Home', 'Libraries & Demo',\n",
       "       'Lifestyle', 'Lifestyle;Pretend Play',\n",
       "       'Adventure;Action & Adventure', 'Arcade', 'Casual', 'Card',\n",
       "       'Casual;Pretend Play', 'Action', 'Strategy', 'Puzzle', 'Sports',\n",
       "       'Music', 'Word', 'Racing', 'Casual;Creativity',\n",
       "       'Casual;Action & Adventure', 'Simulation', 'Adventure', 'Board',\n",
       "       'Trivia', 'Role Playing', 'Simulation;Education',\n",
       "       'Action;Action & Adventure', 'Casual;Brain Games',\n",
       "       'Simulation;Action & Adventure', 'Educational;Creativity',\n",
       "       'Puzzle;Brain Games', 'Educational;Education', 'Card;Brain Games',\n",
       "       'Educational;Brain Games', 'Educational;Pretend Play',\n",
       "       'Entertainment;Education', 'Casual;Education',\n",
       "       'Music;Music & Video', 'Racing;Action & Adventure',\n",
       "       'Arcade;Pretend Play', 'Role Playing;Action & Adventure',\n",
       "       'Simulation;Pretend Play', 'Puzzle;Creativity',\n",
       "       'Sports;Action & Adventure', 'Educational;Action & Adventure',\n",
       "       'Arcade;Action & Adventure', 'Entertainment;Action & Adventure',\n",
       "       'Puzzle;Action & Adventure', 'Strategy;Action & Adventure',\n",
       "       'Music & Audio;Music & Video', 'Health & Fitness;Education',\n",
       "       'Adventure;Education', 'Board;Brain Games',\n",
       "       'Board;Action & Adventure', 'Board;Pretend Play',\n",
       "       'Casual;Music & Video', 'Role Playing;Pretend Play',\n",
       "       'Entertainment;Pretend Play', 'Video Players & Editors;Creativity',\n",
       "       'Card;Action & Adventure', 'Medical', 'Social', 'Shopping',\n",
       "       'Photography', 'Travel & Local',\n",
       "       'Travel & Local;Action & Adventure', 'Tools', 'Tools;Education',\n",
       "       'Personalization', 'Productivity', 'Parenting',\n",
       "       'Parenting;Music & Video', 'Parenting;Education',\n",
       "       'Parenting;Brain Games', 'Weather', 'Video Players & Editors',\n",
       "       'Video Players & Editors;Music & Video', 'News & Magazines',\n",
       "       'Maps & Navigation', 'Health & Fitness;Action & Adventure',\n",
       "       'Educational', 'Casino', 'Adventure;Brain Games',\n",
       "       'Trivia;Education', 'Lifestyle;Education',\n",
       "       'Books & Reference;Creativity', 'Books & Reference;Education',\n",
       "       'Puzzle;Education', 'Role Playing;Education',\n",
       "       'Role Playing;Brain Games', 'Strategy;Education',\n",
       "       'Racing;Pretend Play', 'Communication;Creativity',\n",
       "       'February 11, 2018', 'Strategy;Creativity'], dtype=object)"
      ]
     },
     "execution_count": 25,
     "metadata": {},
     "output_type": "execute_result"
    }
   ],
   "source": [
    "df[\"Genres\"].unique()#Bazı yapısal bozukluklar gözüküyor "
   ]
  },
  {
   "cell_type": "code",
   "execution_count": 93,
   "id": "b331791c-43f4-418b-b122-370361b57ec5",
   "metadata": {},
   "outputs": [],
   "source": [
    "#Installs Değişkeninin Değiştirilmesi,Eksik Veri İşlemleri,Aykırı Gözlemlerin İncelenmesi"
   ]
  },
  {
   "cell_type": "code",
   "execution_count": 27,
   "id": "f8debf50-0346-430f-affe-0bca9225981a",
   "metadata": {},
   "outputs": [
    {
     "data": {
      "text/html": [
       "<div>\n",
       "<style scoped>\n",
       "    .dataframe tbody tr th:only-of-type {\n",
       "        vertical-align: middle;\n",
       "    }\n",
       "\n",
       "    .dataframe tbody tr th {\n",
       "        vertical-align: top;\n",
       "    }\n",
       "\n",
       "    .dataframe thead th {\n",
       "        text-align: right;\n",
       "    }\n",
       "</style>\n",
       "<table border=\"1\" class=\"dataframe\">\n",
       "  <thead>\n",
       "    <tr style=\"text-align: right;\">\n",
       "      <th></th>\n",
       "      <th>App</th>\n",
       "      <th>Category</th>\n",
       "      <th>Rating</th>\n",
       "      <th>Reviews</th>\n",
       "      <th>Size</th>\n",
       "      <th>Installs</th>\n",
       "      <th>Type</th>\n",
       "      <th>Price</th>\n",
       "      <th>Content Rating</th>\n",
       "      <th>Genres</th>\n",
       "      <th>Last Updated</th>\n",
       "      <th>Current Ver</th>\n",
       "      <th>Android Ver</th>\n",
       "    </tr>\n",
       "  </thead>\n",
       "  <tbody>\n",
       "    <tr>\n",
       "      <th>4465</th>\n",
       "      <td>Popsicle Launcher for Android P 9.0 launcher</td>\n",
       "      <td>PERSONALIZATION</td>\n",
       "      <td>NaN</td>\n",
       "      <td>0</td>\n",
       "      <td>5.5M</td>\n",
       "      <td>0+</td>\n",
       "      <td>Paid</td>\n",
       "      <td>$1.49</td>\n",
       "      <td>Everyone</td>\n",
       "      <td>Personalization</td>\n",
       "      <td>July 11, 2018</td>\n",
       "      <td>1.1</td>\n",
       "      <td>4.2 and up</td>\n",
       "    </tr>\n",
       "    <tr>\n",
       "      <th>5307</th>\n",
       "      <td>Ak Parti Yardım Toplama</td>\n",
       "      <td>SOCIAL</td>\n",
       "      <td>NaN</td>\n",
       "      <td>0</td>\n",
       "      <td>8.7M</td>\n",
       "      <td>0+</td>\n",
       "      <td>Paid</td>\n",
       "      <td>$13.99</td>\n",
       "      <td>Teen</td>\n",
       "      <td>Social</td>\n",
       "      <td>July 28, 2017</td>\n",
       "      <td>3.4.4.3.3</td>\n",
       "      <td>4.1 and up</td>\n",
       "    </tr>\n",
       "    <tr>\n",
       "      <th>5486</th>\n",
       "      <td>AP Series Solution Pro</td>\n",
       "      <td>FAMILY</td>\n",
       "      <td>NaN</td>\n",
       "      <td>0</td>\n",
       "      <td>7.4M</td>\n",
       "      <td>0+</td>\n",
       "      <td>Paid</td>\n",
       "      <td>$1.99</td>\n",
       "      <td>Everyone</td>\n",
       "      <td>Education</td>\n",
       "      <td>July 30, 2017</td>\n",
       "      <td>1.3</td>\n",
       "      <td>4.0 and up</td>\n",
       "    </tr>\n",
       "    <tr>\n",
       "      <th>5945</th>\n",
       "      <td>Ain Arabic Kids Alif Ba ta</td>\n",
       "      <td>FAMILY</td>\n",
       "      <td>NaN</td>\n",
       "      <td>0</td>\n",
       "      <td>33M</td>\n",
       "      <td>0+</td>\n",
       "      <td>Paid</td>\n",
       "      <td>$2.99</td>\n",
       "      <td>Everyone</td>\n",
       "      <td>Education</td>\n",
       "      <td>April 15, 2016</td>\n",
       "      <td>1.0</td>\n",
       "      <td>3.0 and up</td>\n",
       "    </tr>\n",
       "    <tr>\n",
       "      <th>6692</th>\n",
       "      <td>cronometra-br</td>\n",
       "      <td>PRODUCTIVITY</td>\n",
       "      <td>NaN</td>\n",
       "      <td>0</td>\n",
       "      <td>5.4M</td>\n",
       "      <td>0+</td>\n",
       "      <td>Paid</td>\n",
       "      <td>$154.99</td>\n",
       "      <td>Everyone</td>\n",
       "      <td>Productivity</td>\n",
       "      <td>November 24, 2017</td>\n",
       "      <td>1.0.0</td>\n",
       "      <td>4.1 and up</td>\n",
       "    </tr>\n",
       "    <tr>\n",
       "      <th>7434</th>\n",
       "      <td>Pekalongan CJ</td>\n",
       "      <td>SOCIAL</td>\n",
       "      <td>NaN</td>\n",
       "      <td>0</td>\n",
       "      <td>5.9M</td>\n",
       "      <td>0+</td>\n",
       "      <td>Free</td>\n",
       "      <td>0</td>\n",
       "      <td>Teen</td>\n",
       "      <td>Social</td>\n",
       "      <td>July 21, 2018</td>\n",
       "      <td>0.0.1</td>\n",
       "      <td>4.4 and up</td>\n",
       "    </tr>\n",
       "    <tr>\n",
       "      <th>8081</th>\n",
       "      <td>CX Network</td>\n",
       "      <td>BUSINESS</td>\n",
       "      <td>NaN</td>\n",
       "      <td>0</td>\n",
       "      <td>10M</td>\n",
       "      <td>0+</td>\n",
       "      <td>Free</td>\n",
       "      <td>0</td>\n",
       "      <td>Everyone</td>\n",
       "      <td>Business</td>\n",
       "      <td>August 6, 2018</td>\n",
       "      <td>1.3.1</td>\n",
       "      <td>4.1 and up</td>\n",
       "    </tr>\n",
       "    <tr>\n",
       "      <th>8614</th>\n",
       "      <td>Sweden Newspapers</td>\n",
       "      <td>NEWS_AND_MAGAZINES</td>\n",
       "      <td>NaN</td>\n",
       "      <td>0</td>\n",
       "      <td>2.1M</td>\n",
       "      <td>0+</td>\n",
       "      <td>Free</td>\n",
       "      <td>0</td>\n",
       "      <td>Everyone</td>\n",
       "      <td>News &amp; Magazines</td>\n",
       "      <td>July 7, 2018</td>\n",
       "      <td>1.1</td>\n",
       "      <td>4.4 and up</td>\n",
       "    </tr>\n",
       "    <tr>\n",
       "      <th>8871</th>\n",
       "      <td>Test Application DT 02</td>\n",
       "      <td>ART_AND_DESIGN</td>\n",
       "      <td>NaN</td>\n",
       "      <td>0</td>\n",
       "      <td>1.2M</td>\n",
       "      <td>0+</td>\n",
       "      <td>Free</td>\n",
       "      <td>0</td>\n",
       "      <td>Everyone</td>\n",
       "      <td>Art &amp; Design</td>\n",
       "      <td>March 14, 2017</td>\n",
       "      <td>4.0</td>\n",
       "      <td>4.2 and up</td>\n",
       "    </tr>\n",
       "    <tr>\n",
       "      <th>9337</th>\n",
       "      <td>EG | Explore Folegandros</td>\n",
       "      <td>TRAVEL_AND_LOCAL</td>\n",
       "      <td>NaN</td>\n",
       "      <td>0</td>\n",
       "      <td>56M</td>\n",
       "      <td>0+</td>\n",
       "      <td>Paid</td>\n",
       "      <td>$3.99</td>\n",
       "      <td>Everyone</td>\n",
       "      <td>Travel &amp; Local</td>\n",
       "      <td>January 22, 2017</td>\n",
       "      <td>1.1.1</td>\n",
       "      <td>4.1 and up</td>\n",
       "    </tr>\n",
       "    <tr>\n",
       "      <th>9719</th>\n",
       "      <td>EP Cook Book</td>\n",
       "      <td>MEDICAL</td>\n",
       "      <td>NaN</td>\n",
       "      <td>0</td>\n",
       "      <td>3.2M</td>\n",
       "      <td>0+</td>\n",
       "      <td>Paid</td>\n",
       "      <td>$200.00</td>\n",
       "      <td>Everyone</td>\n",
       "      <td>Medical</td>\n",
       "      <td>July 26, 2015</td>\n",
       "      <td>1.0</td>\n",
       "      <td>3.0 and up</td>\n",
       "    </tr>\n",
       "    <tr>\n",
       "      <th>9905</th>\n",
       "      <td>Eu sou Rico</td>\n",
       "      <td>FINANCE</td>\n",
       "      <td>NaN</td>\n",
       "      <td>0</td>\n",
       "      <td>2.6M</td>\n",
       "      <td>0+</td>\n",
       "      <td>Paid</td>\n",
       "      <td>$30.99</td>\n",
       "      <td>Everyone</td>\n",
       "      <td>Finance</td>\n",
       "      <td>January 9, 2018</td>\n",
       "      <td>1.0</td>\n",
       "      <td>4.0 and up</td>\n",
       "    </tr>\n",
       "    <tr>\n",
       "      <th>9917</th>\n",
       "      <td>Eu Sou Rico</td>\n",
       "      <td>FINANCE</td>\n",
       "      <td>NaN</td>\n",
       "      <td>0</td>\n",
       "      <td>1.4M</td>\n",
       "      <td>0+</td>\n",
       "      <td>Paid</td>\n",
       "      <td>$394.99</td>\n",
       "      <td>Everyone</td>\n",
       "      <td>Finance</td>\n",
       "      <td>July 11, 2018</td>\n",
       "      <td>1.0</td>\n",
       "      <td>4.0.3 and up</td>\n",
       "    </tr>\n",
       "    <tr>\n",
       "      <th>9934</th>\n",
       "      <td>I'm Rich/Eu sou Rico/أنا غني/我很有錢</td>\n",
       "      <td>LIFESTYLE</td>\n",
       "      <td>NaN</td>\n",
       "      <td>0</td>\n",
       "      <td>40M</td>\n",
       "      <td>0+</td>\n",
       "      <td>Paid</td>\n",
       "      <td>$399.99</td>\n",
       "      <td>Everyone</td>\n",
       "      <td>Lifestyle</td>\n",
       "      <td>December 1, 2017</td>\n",
       "      <td>MONEY</td>\n",
       "      <td>4.1 and up</td>\n",
       "    </tr>\n",
       "  </tbody>\n",
       "</table>\n",
       "</div>"
      ],
      "text/plain": [
       "                                               App            Category  \\\n",
       "4465  Popsicle Launcher for Android P 9.0 launcher     PERSONALIZATION   \n",
       "5307                       Ak Parti Yardım Toplama              SOCIAL   \n",
       "5486                        AP Series Solution Pro              FAMILY   \n",
       "5945                    Ain Arabic Kids Alif Ba ta              FAMILY   \n",
       "6692                                 cronometra-br        PRODUCTIVITY   \n",
       "7434                                 Pekalongan CJ              SOCIAL   \n",
       "8081                                    CX Network            BUSINESS   \n",
       "8614                             Sweden Newspapers  NEWS_AND_MAGAZINES   \n",
       "8871                        Test Application DT 02      ART_AND_DESIGN   \n",
       "9337                      EG | Explore Folegandros    TRAVEL_AND_LOCAL   \n",
       "9719                                  EP Cook Book             MEDICAL   \n",
       "9905                                   Eu sou Rico             FINANCE   \n",
       "9917                                   Eu Sou Rico             FINANCE   \n",
       "9934             I'm Rich/Eu sou Rico/أنا غني/我很有錢           LIFESTYLE   \n",
       "\n",
       "      Rating Reviews  Size Installs  Type    Price Content Rating  \\\n",
       "4465     NaN       0  5.5M       0+  Paid    $1.49       Everyone   \n",
       "5307     NaN       0  8.7M       0+  Paid   $13.99           Teen   \n",
       "5486     NaN       0  7.4M       0+  Paid    $1.99       Everyone   \n",
       "5945     NaN       0   33M       0+  Paid    $2.99       Everyone   \n",
       "6692     NaN       0  5.4M       0+  Paid  $154.99       Everyone   \n",
       "7434     NaN       0  5.9M       0+  Free        0           Teen   \n",
       "8081     NaN       0   10M       0+  Free        0       Everyone   \n",
       "8614     NaN       0  2.1M       0+  Free        0       Everyone   \n",
       "8871     NaN       0  1.2M       0+  Free        0       Everyone   \n",
       "9337     NaN       0   56M       0+  Paid    $3.99       Everyone   \n",
       "9719     NaN       0  3.2M       0+  Paid  $200.00       Everyone   \n",
       "9905     NaN       0  2.6M       0+  Paid   $30.99       Everyone   \n",
       "9917     NaN       0  1.4M       0+  Paid  $394.99       Everyone   \n",
       "9934     NaN       0   40M       0+  Paid  $399.99       Everyone   \n",
       "\n",
       "                Genres       Last Updated Current Ver   Android Ver  \n",
       "4465   Personalization      July 11, 2018         1.1    4.2 and up  \n",
       "5307            Social      July 28, 2017   3.4.4.3.3    4.1 and up  \n",
       "5486         Education      July 30, 2017         1.3    4.0 and up  \n",
       "5945         Education     April 15, 2016         1.0    3.0 and up  \n",
       "6692      Productivity  November 24, 2017       1.0.0    4.1 and up  \n",
       "7434            Social      July 21, 2018       0.0.1    4.4 and up  \n",
       "8081          Business     August 6, 2018       1.3.1    4.1 and up  \n",
       "8614  News & Magazines       July 7, 2018         1.1    4.4 and up  \n",
       "8871      Art & Design     March 14, 2017         4.0    4.2 and up  \n",
       "9337    Travel & Local   January 22, 2017       1.1.1    4.1 and up  \n",
       "9719           Medical      July 26, 2015         1.0    3.0 and up  \n",
       "9905           Finance    January 9, 2018         1.0    4.0 and up  \n",
       "9917           Finance      July 11, 2018         1.0  4.0.3 and up  \n",
       "9934         Lifestyle   December 1, 2017       MONEY    4.1 and up  "
      ]
     },
     "execution_count": 27,
     "metadata": {},
     "output_type": "execute_result"
    }
   ],
   "source": [
    "df[df[\"Installs\"]==\"0+\"]"
   ]
  },
  {
   "cell_type": "markdown",
   "id": "e08d2904-0a33-4603-bc34-b414072febdc",
   "metadata": {},
   "source": [
    "## Category Değişkeni İşlemeri"
   ]
  },
  {
   "cell_type": "code",
   "execution_count": 29,
   "id": "d0166586-1006-4848-ae08-b924ec7098d1",
   "metadata": {},
   "outputs": [
    {
     "data": {
      "text/html": [
       "<div>\n",
       "<style scoped>\n",
       "    .dataframe tbody tr th:only-of-type {\n",
       "        vertical-align: middle;\n",
       "    }\n",
       "\n",
       "    .dataframe tbody tr th {\n",
       "        vertical-align: top;\n",
       "    }\n",
       "\n",
       "    .dataframe thead th {\n",
       "        text-align: right;\n",
       "    }\n",
       "</style>\n",
       "<table border=\"1\" class=\"dataframe\">\n",
       "  <thead>\n",
       "    <tr style=\"text-align: right;\">\n",
       "      <th></th>\n",
       "      <th>App</th>\n",
       "      <th>Category</th>\n",
       "      <th>Rating</th>\n",
       "      <th>Reviews</th>\n",
       "      <th>Size</th>\n",
       "      <th>Installs</th>\n",
       "      <th>Type</th>\n",
       "      <th>Price</th>\n",
       "      <th>Content Rating</th>\n",
       "      <th>Genres</th>\n",
       "      <th>Last Updated</th>\n",
       "      <th>Current Ver</th>\n",
       "      <th>Android Ver</th>\n",
       "    </tr>\n",
       "  </thead>\n",
       "  <tbody>\n",
       "    <tr>\n",
       "      <th>10472</th>\n",
       "      <td>Life Made WI-Fi Touchscreen Photo Frame</td>\n",
       "      <td>1.9</td>\n",
       "      <td>19.0</td>\n",
       "      <td>3.0M</td>\n",
       "      <td>1,000+</td>\n",
       "      <td>Free</td>\n",
       "      <td>0</td>\n",
       "      <td>Everyone</td>\n",
       "      <td>NaN</td>\n",
       "      <td>February 11, 2018</td>\n",
       "      <td>1.0.19</td>\n",
       "      <td>4.0 and up</td>\n",
       "      <td>NaN</td>\n",
       "    </tr>\n",
       "  </tbody>\n",
       "</table>\n",
       "</div>"
      ],
      "text/plain": [
       "                                           App Category  Rating Reviews  \\\n",
       "10472  Life Made WI-Fi Touchscreen Photo Frame      1.9    19.0    3.0M   \n",
       "\n",
       "         Size Installs Type     Price Content Rating             Genres  \\\n",
       "10472  1,000+     Free    0  Everyone            NaN  February 11, 2018   \n",
       "\n",
       "      Last Updated Current Ver Android Ver  \n",
       "10472       1.0.19  4.0 and up         NaN  "
      ]
     },
     "execution_count": 29,
     "metadata": {},
     "output_type": "execute_result"
    }
   ],
   "source": [
    "df[df[\"Category\"]==\"1.9\"]"
   ]
  },
  {
   "cell_type": "code",
   "execution_count": 31,
   "id": "0e3bd8a7-e0eb-4a72-be6e-bebd09a588e0",
   "metadata": {},
   "outputs": [],
   "source": [
    "a=df[df[\"Category\"]==\"1.9\"].index\n",
    "df.drop(index=a,inplace=True)"
   ]
  },
  {
   "cell_type": "markdown",
   "id": "3a7d2067-c83c-4e48-855b-3938ae44f90d",
   "metadata": {},
   "source": [
    "## Size değişkenindeki değerleri numeric ve  tek tip (kb) cinsine getirme işlemleri"
   ]
  },
  {
   "cell_type": "code",
   "execution_count": 33,
   "id": "37cf0b79-9abc-43a3-ac9a-186452c92aeb",
   "metadata": {},
   "outputs": [
    {
     "name": "stdout",
     "output_type": "stream",
     "text": [
      "<class 'pandas.core.series.Series'>\n",
      "Index: 10840 entries, 0 to 10840\n",
      "Series name: Size\n",
      "Non-Null Count  Dtype \n",
      "--------------  ----- \n",
      "10840 non-null  object\n",
      "dtypes: object(1)\n",
      "memory usage: 169.4+ KB\n"
     ]
    }
   ],
   "source": [
    "df[\"Size\"].info()"
   ]
  },
  {
   "cell_type": "code",
   "execution_count": 35,
   "id": "5b13b65d-8f03-404d-aaef-4c7679e8e9c0",
   "metadata": {},
   "outputs": [
    {
     "data": {
      "text/plain": [
       "array(['19M', '14M', '8.7M', '25M', '2.8M', '5.6M', '29M', '33M', '3.1M',\n",
       "       '28M', '12M', '20M', '21M', '37M', '2.7M', '5.5M', '17M', '39M',\n",
       "       '31M', '4.2M', '7.0M', '23M', '6.0M', '6.1M', '4.6M', '9.2M',\n",
       "       '5.2M', '11M', '24M', 'Varies with device', '9.4M', '15M', '10M',\n",
       "       '1.2M', '26M', '8.0M', '7.9M', '56M', '57M', '35M', '54M', '201k',\n",
       "       '3.6M', '5.7M', '8.6M', '2.4M', '27M', '2.5M', '16M', '3.4M',\n",
       "       '8.9M', '3.9M', '2.9M', '38M', '32M', '5.4M', '18M', '1.1M',\n",
       "       '2.2M', '4.5M', '9.8M', '52M', '9.0M', '6.7M', '30M', '2.6M',\n",
       "       '7.1M', '3.7M', '22M', '7.4M', '6.4M', '3.2M', '8.2M', '9.9M',\n",
       "       '4.9M', '9.5M', '5.0M', '5.9M', '13M', '73M', '6.8M', '3.5M',\n",
       "       '4.0M', '2.3M', '7.2M', '2.1M', '42M', '7.3M', '9.1M', '55M',\n",
       "       '23k', '6.5M', '1.5M', '7.5M', '51M', '41M', '48M', '8.5M', '46M',\n",
       "       '8.3M', '4.3M', '4.7M', '3.3M', '40M', '7.8M', '8.8M', '6.6M',\n",
       "       '5.1M', '61M', '66M', '79k', '8.4M', '118k', '44M', '695k', '1.6M',\n",
       "       '6.2M', '18k', '53M', '1.4M', '3.0M', '5.8M', '3.8M', '9.6M',\n",
       "       '45M', '63M', '49M', '77M', '4.4M', '4.8M', '70M', '6.9M', '9.3M',\n",
       "       '10.0M', '8.1M', '36M', '84M', '97M', '2.0M', '1.9M', '1.8M',\n",
       "       '5.3M', '47M', '556k', '526k', '76M', '7.6M', '59M', '9.7M', '78M',\n",
       "       '72M', '43M', '7.7M', '6.3M', '334k', '34M', '93M', '65M', '79M',\n",
       "       '100M', '58M', '50M', '68M', '64M', '67M', '60M', '94M', '232k',\n",
       "       '99M', '624k', '95M', '8.5k', '41k', '292k', '11k', '80M', '1.7M',\n",
       "       '74M', '62M', '69M', '75M', '98M', '85M', '82M', '96M', '87M',\n",
       "       '71M', '86M', '91M', '81M', '92M', '83M', '88M', '704k', '862k',\n",
       "       '899k', '378k', '266k', '375k', '1.3M', '975k', '980k', '4.1M',\n",
       "       '89M', '696k', '544k', '525k', '920k', '779k', '853k', '720k',\n",
       "       '713k', '772k', '318k', '58k', '241k', '196k', '857k', '51k',\n",
       "       '953k', '865k', '251k', '930k', '540k', '313k', '746k', '203k',\n",
       "       '26k', '314k', '239k', '371k', '220k', '730k', '756k', '91k',\n",
       "       '293k', '17k', '74k', '14k', '317k', '78k', '924k', '902k', '818k',\n",
       "       '81k', '939k', '169k', '45k', '475k', '965k', '90M', '545k', '61k',\n",
       "       '283k', '655k', '714k', '93k', '872k', '121k', '322k', '1.0M',\n",
       "       '976k', '172k', '238k', '549k', '206k', '954k', '444k', '717k',\n",
       "       '210k', '609k', '308k', '705k', '306k', '904k', '473k', '175k',\n",
       "       '350k', '383k', '454k', '421k', '70k', '812k', '442k', '842k',\n",
       "       '417k', '412k', '459k', '478k', '335k', '782k', '721k', '430k',\n",
       "       '429k', '192k', '200k', '460k', '728k', '496k', '816k', '414k',\n",
       "       '506k', '887k', '613k', '243k', '569k', '778k', '683k', '592k',\n",
       "       '319k', '186k', '840k', '647k', '191k', '373k', '437k', '598k',\n",
       "       '716k', '585k', '982k', '222k', '219k', '55k', '948k', '323k',\n",
       "       '691k', '511k', '951k', '963k', '25k', '554k', '351k', '27k',\n",
       "       '82k', '208k', '913k', '514k', '551k', '29k', '103k', '898k',\n",
       "       '743k', '116k', '153k', '209k', '353k', '499k', '173k', '597k',\n",
       "       '809k', '122k', '411k', '400k', '801k', '787k', '237k', '50k',\n",
       "       '643k', '986k', '97k', '516k', '837k', '780k', '961k', '269k',\n",
       "       '20k', '498k', '600k', '749k', '642k', '881k', '72k', '656k',\n",
       "       '601k', '221k', '228k', '108k', '940k', '176k', '33k', '663k',\n",
       "       '34k', '942k', '259k', '164k', '458k', '245k', '629k', '28k',\n",
       "       '288k', '775k', '785k', '636k', '916k', '994k', '309k', '485k',\n",
       "       '914k', '903k', '608k', '500k', '54k', '562k', '847k', '957k',\n",
       "       '688k', '811k', '270k', '48k', '329k', '523k', '921k', '874k',\n",
       "       '981k', '784k', '280k', '24k', '518k', '754k', '892k', '154k',\n",
       "       '860k', '364k', '387k', '626k', '161k', '879k', '39k', '970k',\n",
       "       '170k', '141k', '160k', '144k', '143k', '190k', '376k', '193k',\n",
       "       '246k', '73k', '658k', '992k', '253k', '420k', '404k', '470k',\n",
       "       '226k', '240k', '89k', '234k', '257k', '861k', '467k', '157k',\n",
       "       '44k', '676k', '67k', '552k', '885k', '1020k', '582k', '619k'],\n",
       "      dtype=object)"
      ]
     },
     "execution_count": 35,
     "metadata": {},
     "output_type": "execute_result"
    }
   ],
   "source": [
    "df[\"Size\"].unique()\n",
    "                "
   ]
  },
  {
   "cell_type": "code",
   "execution_count": 446,
   "id": "b777f525-3b41-4a87-90bc-ab64a5e4f02f",
   "metadata": {},
   "outputs": [],
   "source": [
    "#Varies with device değerini Size değerinin ortalaması veya medyanı ile  \n",
    "#değiştirmemiz gerkiyor.Size değerinin dağılımına bakıp ortalama mı medyan mı diye kara\n",
    "#vereceğiz\n",
    "#Ama bunu yapabilmemiz için Size Değerlerini float türünde yazmamız gerekiyor"
   ]
  },
  {
   "cell_type": "code",
   "execution_count": 37,
   "id": "4c4198c3-ba87-4094-a78d-c770ab7e6acb",
   "metadata": {
    "scrolled": true
   },
   "outputs": [
    {
     "data": {
      "text/html": [
       "<div>\n",
       "<style scoped>\n",
       "    .dataframe tbody tr th:only-of-type {\n",
       "        vertical-align: middle;\n",
       "    }\n",
       "\n",
       "    .dataframe tbody tr th {\n",
       "        vertical-align: top;\n",
       "    }\n",
       "\n",
       "    .dataframe thead th {\n",
       "        text-align: right;\n",
       "    }\n",
       "</style>\n",
       "<table border=\"1\" class=\"dataframe\">\n",
       "  <thead>\n",
       "    <tr style=\"text-align: right;\">\n",
       "      <th></th>\n",
       "      <th>App</th>\n",
       "      <th>Category</th>\n",
       "      <th>Rating</th>\n",
       "      <th>Reviews</th>\n",
       "      <th>Size</th>\n",
       "      <th>Installs</th>\n",
       "      <th>Type</th>\n",
       "      <th>Price</th>\n",
       "      <th>Content Rating</th>\n",
       "      <th>Genres</th>\n",
       "      <th>Last Updated</th>\n",
       "      <th>Current Ver</th>\n",
       "      <th>Android Ver</th>\n",
       "    </tr>\n",
       "  </thead>\n",
       "  <tbody>\n",
       "  </tbody>\n",
       "</table>\n",
       "</div>"
      ],
      "text/plain": [
       "Empty DataFrame\n",
       "Columns: [App, Category, Rating, Reviews, Size, Installs, Type, Price, Content Rating, Genres, Last Updated, Current Ver, Android Ver]\n",
       "Index: []"
      ]
     },
     "execution_count": 37,
     "metadata": {},
     "output_type": "execute_result"
    }
   ],
   "source": [
    "df.drop(df.loc[df[\"Size\"]==\"1,000+\"].index,inplace=True)#1,000+ Değerini Dfden atıyoruz\n",
    "df.loc[df[\"Size\"]==\"1,000+\"]"
   ]
  },
  {
   "cell_type": "code",
   "execution_count": 414,
   "id": "01dac3b6-c727-4542-8ba8-5cbbb4d14f3a",
   "metadata": {},
   "outputs": [],
   "source": [
    "### Aşağıdaki Kodalarda Değişkenindeki M (megabayt) Türündeki verileri\n",
    "### sayısal türden kilobayta çevirdik"
   ]
  },
  {
   "cell_type": "code",
   "execution_count": 39,
   "id": "932d77c8-0807-4596-8061-19d18f382fc4",
   "metadata": {},
   "outputs": [],
   "source": [
    "m=df[df[\"Size\"].str.contains('M', na=False)].index\n",
    "df.loc[m,\"Size\"]=df.loc[m,\"Size\"].replace(\"M\",\"\",regex=True)\n",
    "df.loc[m,\"Size\"]=df.loc[m,\"Size\"].astype(\"float64\")\n",
    "df.loc[m,\"Size\"]=df.loc[m,\"Size\"]*1000"
   ]
  },
  {
   "cell_type": "code",
   "execution_count": 41,
   "id": "4810b411-26b7-4efe-9027-ef723a952f59",
   "metadata": {},
   "outputs": [
    {
     "data": {
      "text/html": [
       "<div>\n",
       "<style scoped>\n",
       "    .dataframe tbody tr th:only-of-type {\n",
       "        vertical-align: middle;\n",
       "    }\n",
       "\n",
       "    .dataframe tbody tr th {\n",
       "        vertical-align: top;\n",
       "    }\n",
       "\n",
       "    .dataframe thead th {\n",
       "        text-align: right;\n",
       "    }\n",
       "</style>\n",
       "<table border=\"1\" class=\"dataframe\">\n",
       "  <thead>\n",
       "    <tr style=\"text-align: right;\">\n",
       "      <th></th>\n",
       "      <th>App</th>\n",
       "      <th>Category</th>\n",
       "      <th>Rating</th>\n",
       "      <th>Reviews</th>\n",
       "      <th>Size</th>\n",
       "      <th>Installs</th>\n",
       "      <th>Type</th>\n",
       "      <th>Price</th>\n",
       "      <th>Content Rating</th>\n",
       "      <th>Genres</th>\n",
       "      <th>Last Updated</th>\n",
       "      <th>Current Ver</th>\n",
       "      <th>Android Ver</th>\n",
       "    </tr>\n",
       "  </thead>\n",
       "  <tbody>\n",
       "    <tr>\n",
       "      <th>0</th>\n",
       "      <td>Photo Editor &amp; Candy Camera &amp; Grid &amp; ScrapBook</td>\n",
       "      <td>ART_AND_DESIGN</td>\n",
       "      <td>4.1</td>\n",
       "      <td>159</td>\n",
       "      <td>19000.0</td>\n",
       "      <td>10,000+</td>\n",
       "      <td>Free</td>\n",
       "      <td>0</td>\n",
       "      <td>Everyone</td>\n",
       "      <td>Art &amp; Design</td>\n",
       "      <td>January 7, 2018</td>\n",
       "      <td>1.0.0</td>\n",
       "      <td>4.0.3 and up</td>\n",
       "    </tr>\n",
       "    <tr>\n",
       "      <th>1</th>\n",
       "      <td>Coloring book moana</td>\n",
       "      <td>ART_AND_DESIGN</td>\n",
       "      <td>3.9</td>\n",
       "      <td>967</td>\n",
       "      <td>14000.0</td>\n",
       "      <td>500,000+</td>\n",
       "      <td>Free</td>\n",
       "      <td>0</td>\n",
       "      <td>Everyone</td>\n",
       "      <td>Art &amp; Design;Pretend Play</td>\n",
       "      <td>January 15, 2018</td>\n",
       "      <td>2.0.0</td>\n",
       "      <td>4.0.3 and up</td>\n",
       "    </tr>\n",
       "    <tr>\n",
       "      <th>2</th>\n",
       "      <td>U Launcher Lite – FREE Live Cool Themes, Hide ...</td>\n",
       "      <td>ART_AND_DESIGN</td>\n",
       "      <td>4.7</td>\n",
       "      <td>87510</td>\n",
       "      <td>8700.0</td>\n",
       "      <td>5,000,000+</td>\n",
       "      <td>Free</td>\n",
       "      <td>0</td>\n",
       "      <td>Everyone</td>\n",
       "      <td>Art &amp; Design</td>\n",
       "      <td>August 1, 2018</td>\n",
       "      <td>1.2.4</td>\n",
       "      <td>4.0.3 and up</td>\n",
       "    </tr>\n",
       "    <tr>\n",
       "      <th>3</th>\n",
       "      <td>Sketch - Draw &amp; Paint</td>\n",
       "      <td>ART_AND_DESIGN</td>\n",
       "      <td>4.5</td>\n",
       "      <td>215644</td>\n",
       "      <td>25000.0</td>\n",
       "      <td>50,000,000+</td>\n",
       "      <td>Free</td>\n",
       "      <td>0</td>\n",
       "      <td>Teen</td>\n",
       "      <td>Art &amp; Design</td>\n",
       "      <td>June 8, 2018</td>\n",
       "      <td>Varies with device</td>\n",
       "      <td>4.2 and up</td>\n",
       "    </tr>\n",
       "    <tr>\n",
       "      <th>4</th>\n",
       "      <td>Pixel Draw - Number Art Coloring Book</td>\n",
       "      <td>ART_AND_DESIGN</td>\n",
       "      <td>4.3</td>\n",
       "      <td>967</td>\n",
       "      <td>2800.0</td>\n",
       "      <td>100,000+</td>\n",
       "      <td>Free</td>\n",
       "      <td>0</td>\n",
       "      <td>Everyone</td>\n",
       "      <td>Art &amp; Design;Creativity</td>\n",
       "      <td>June 20, 2018</td>\n",
       "      <td>1.1</td>\n",
       "      <td>4.4 and up</td>\n",
       "    </tr>\n",
       "  </tbody>\n",
       "</table>\n",
       "</div>"
      ],
      "text/plain": [
       "                                                 App        Category  Rating  \\\n",
       "0     Photo Editor & Candy Camera & Grid & ScrapBook  ART_AND_DESIGN     4.1   \n",
       "1                                Coloring book moana  ART_AND_DESIGN     3.9   \n",
       "2  U Launcher Lite – FREE Live Cool Themes, Hide ...  ART_AND_DESIGN     4.7   \n",
       "3                              Sketch - Draw & Paint  ART_AND_DESIGN     4.5   \n",
       "4              Pixel Draw - Number Art Coloring Book  ART_AND_DESIGN     4.3   \n",
       "\n",
       "  Reviews     Size     Installs  Type Price Content Rating  \\\n",
       "0     159  19000.0      10,000+  Free     0       Everyone   \n",
       "1     967  14000.0     500,000+  Free     0       Everyone   \n",
       "2   87510   8700.0   5,000,000+  Free     0       Everyone   \n",
       "3  215644  25000.0  50,000,000+  Free     0           Teen   \n",
       "4     967   2800.0     100,000+  Free     0       Everyone   \n",
       "\n",
       "                      Genres      Last Updated         Current Ver  \\\n",
       "0               Art & Design   January 7, 2018               1.0.0   \n",
       "1  Art & Design;Pretend Play  January 15, 2018               2.0.0   \n",
       "2               Art & Design    August 1, 2018               1.2.4   \n",
       "3               Art & Design      June 8, 2018  Varies with device   \n",
       "4    Art & Design;Creativity     June 20, 2018                 1.1   \n",
       "\n",
       "    Android Ver  \n",
       "0  4.0.3 and up  \n",
       "1  4.0.3 and up  \n",
       "2  4.0.3 and up  \n",
       "3    4.2 and up  \n",
       "4    4.4 and up  "
      ]
     },
     "execution_count": 41,
     "metadata": {},
     "output_type": "execute_result"
    }
   ],
   "source": [
    "df.head()"
   ]
  },
  {
   "cell_type": "code",
   "execution_count": 448,
   "id": "b9b520a0-3c59-45a0-8241-fb38851a92b9",
   "metadata": {},
   "outputs": [],
   "source": [
    "#K verilerini sayısal olarak kilobayta çevirelim"
   ]
  },
  {
   "cell_type": "code",
   "execution_count": 43,
   "id": "253242ec-f21d-4d9b-8138-7d34fd695d08",
   "metadata": {},
   "outputs": [],
   "source": [
    "k=df[df[\"Size\"].str.contains(\"k\",na=False)].index\n",
    "df.loc[k,\"Size\"]=df.loc[k,\"Size\"].replace(\"k\",\"\",regex=True)\n",
    "df.loc[k,\"Size\"]=df.loc[k,\"Size\"].astype(\"float64\")"
   ]
  },
  {
   "cell_type": "code",
   "execution_count": 45,
   "id": "d3996235-f089-4493-ab0e-3539aa88d1cf",
   "metadata": {
    "scrolled": true
   },
   "outputs": [
    {
     "data": {
      "text/plain": [
       "array([19000.0, 14000.0, 8700.0, 25000.0, 2800.0, 5600.0, 29000.0,\n",
       "       33000.0, 3100.0, 28000.0, 12000.0, 20000.0, 21000.0, 37000.0,\n",
       "       2700.0, 5500.0, 17000.0, 39000.0, 31000.0, 4200.0, 7000.0, 23000.0,\n",
       "       6000.0, 6100.0, 4600.0, 9200.0, 5200.0, 11000.0, 24000.0,\n",
       "       'Varies with device', 9400.0, 15000.0, 10000.0, 1200.0, 26000.0,\n",
       "       8000.0, 7900.0, 56000.0, 57000.0, 35000.0, 54000.0, 201.0, 3600.0,\n",
       "       5700.0, 8600.0, 2400.0, 27000.0, 2500.0, 16000.0, 3400.0, 8900.0,\n",
       "       3900.0, 2900.0, 38000.0, 32000.0, 5400.0, 18000.0, 1100.0, 2200.0,\n",
       "       4500.0, 9800.0, 52000.0, 9000.0, 6700.0, 30000.0, 2600.0, 7100.0,\n",
       "       3700.0, 22000.0, 7400.0, 6400.0, 3200.0, 8200.0, 9900.0, 4900.0,\n",
       "       9500.0, 5000.0, 5900.0, 13000.0, 73000.0, 6800.0, 3500.0, 4000.0,\n",
       "       2300.0, 7200.0, 2100.0, 42000.0, 7300.0, 9100.0, 55000.0, 23.0,\n",
       "       6500.0, 1500.0, 7500.0, 51000.0, 41000.0, 48000.0, 8500.0, 46000.0,\n",
       "       8300.0, 4300.0, 4700.0, 3300.0, 40000.0, 7800.0, 8800.0, 6600.0,\n",
       "       5100.0, 61000.0, 66000.0, 79.0, 8400.0, 118.0, 44000.0, 695.0,\n",
       "       1600.0, 6200.0, 18.0, 53000.0, 1400.0, 3000.0, 5800.0, 3800.0,\n",
       "       9600.0, 45000.0, 63000.0, 49000.0, 77000.0, 4400.0, 4800.0,\n",
       "       70000.0, 6900.0, 9300.0, 8100.0, 36000.0, 84000.0, 97000.0, 2000.0,\n",
       "       1900.0, 1800.0, 5300.0, 47000.0, 556.0, 526.0, 76000.0, 7600.0,\n",
       "       59000.0, 9700.0, 78000.0, 72000.0, 43000.0, 7700.0, 6300.0, 334.0,\n",
       "       34000.0, 93000.0, 65000.0, 79000.0, 100000.0, 58000.0, 50000.0,\n",
       "       68000.0, 64000.0, 67000.0, 60000.0, 94000.0, 232.0, 99000.0, 624.0,\n",
       "       95000.0, 8.5, 41.0, 292.0, 11.0, 80000.0, 1700.0, 74000.0, 62000.0,\n",
       "       69000.0, 75000.0, 98000.0, 85000.0, 82000.0, 96000.0, 87000.0,\n",
       "       71000.0, 86000.0, 91000.0, 81000.0, 92000.0, 83000.0, 88000.0,\n",
       "       704.0, 862.0, 899.0, 378.0, 266.0, 375.0, 1300.0, 975.0, 980.0,\n",
       "       4100.0, 89000.0, 696.0, 544.0, 525.0, 920.0, 779.0, 853.0, 720.0,\n",
       "       713.0, 772.0, 318.0, 58.0, 241.0, 196.0, 857.0, 51.0, 953.0, 865.0,\n",
       "       251.0, 930.0, 540.0, 313.0, 746.0, 203.0, 26.0, 314.0, 239.0,\n",
       "       371.0, 220.0, 730.0, 756.0, 91.0, 293.0, 17.0, 74.0, 14.0, 317.0,\n",
       "       78.0, 924.0, 902.0, 818.0, 81.0, 939.0, 169.0, 45.0, 475.0, 965.0,\n",
       "       90000.0, 545.0, 61.0, 283.0, 655.0, 714.0, 93.0, 872.0, 121.0,\n",
       "       322.0, 1000.0, 976.0, 172.0, 238.0, 549.0, 206.0, 954.0, 444.0,\n",
       "       717.0, 210.0, 609.0, 308.0, 705.0, 306.0, 904.0, 473.0, 175.0,\n",
       "       350.0, 383.0, 454.0, 421.0, 70.0, 812.0, 442.0, 842.0, 417.0,\n",
       "       412.0, 459.0, 478.0, 335.0, 782.0, 721.0, 430.0, 429.0, 192.0,\n",
       "       200.0, 460.0, 728.0, 496.0, 816.0, 414.0, 506.0, 887.0, 613.0,\n",
       "       243.0, 569.0, 778.0, 683.0, 592.0, 319.0, 186.0, 840.0, 647.0,\n",
       "       191.0, 373.0, 437.0, 598.0, 716.0, 585.0, 982.0, 222.0, 219.0,\n",
       "       55.0, 948.0, 323.0, 691.0, 511.0, 951.0, 963.0, 25.0, 554.0, 351.0,\n",
       "       27.0, 82.0, 208.0, 913.0, 514.0, 551.0, 29.0, 103.0, 898.0, 743.0,\n",
       "       116.0, 153.0, 209.0, 353.0, 499.0, 173.0, 597.0, 809.0, 122.0,\n",
       "       411.0, 400.0, 801.0, 787.0, 237.0, 50.0, 643.0, 986.0, 97.0, 516.0,\n",
       "       837.0, 780.0, 961.0, 269.0, 20.0, 498.0, 600.0, 749.0, 642.0,\n",
       "       881.0, 72.0, 656.0, 601.0, 221.0, 228.0, 108.0, 940.0, 176.0, 33.0,\n",
       "       663.0, 34.0, 942.0, 259.0, 164.0, 458.0, 245.0, 629.0, 28.0, 288.0,\n",
       "       775.0, 785.0, 636.0, 916.0, 994.0, 309.0, 485.0, 914.0, 903.0,\n",
       "       608.0, 500.0, 54.0, 562.0, 847.0, 957.0, 688.0, 811.0, 270.0, 48.0,\n",
       "       329.0, 523.0, 921.0, 874.0, 981.0, 784.0, 280.0, 24.0, 518.0,\n",
       "       754.0, 892.0, 154.0, 860.0, 364.0, 387.0, 626.0, 161.0, 879.0,\n",
       "       39.0, 970.0, 170.0, 141.0, 160.0, 144.0, 143.0, 190.0, 376.0,\n",
       "       193.0, 246.0, 73.0, 658.0, 992.0, 253.0, 420.0, 404.0, 470.0,\n",
       "       226.0, 240.0, 89.0, 234.0, 257.0, 861.0, 467.0, 157.0, 44.0, 676.0,\n",
       "       67.0, 552.0, 885.0, 1020.0, 582.0, 619.0], dtype=object)"
      ]
     },
     "execution_count": 45,
     "metadata": {},
     "output_type": "execute_result"
    }
   ],
   "source": [
    "df[\"Size\"].unique()"
   ]
  },
  {
   "cell_type": "code",
   "execution_count": 47,
   "id": "5560e35a-7763-4ffd-8ca7-81ed2649b92e",
   "metadata": {},
   "outputs": [],
   "source": [
    "#Size değerlerini incelemek için \"Varies with device\" değerini içermeyen değerlerin \n",
    "#olduğu yeni bir data frame oluşturup onun üzerinden işlemlerimizi yapacağız\n",
    "v=df[df[\"Size\"]!=\"Varies with device\"]\n",
    "v[\"Size\"]=v[\"Size\"].astype(\"float64\")"
   ]
  },
  {
   "cell_type": "code",
   "execution_count": 49,
   "id": "cb988b07-fc64-47ab-995d-07bba6064e54",
   "metadata": {},
   "outputs": [
    {
     "data": {
      "text/plain": [
       "0"
      ]
     },
     "execution_count": 49,
     "metadata": {},
     "output_type": "execute_result"
    }
   ],
   "source": [
    "v[\"Size\"].isnull().sum()"
   ]
  },
  {
   "cell_type": "code",
   "execution_count": 51,
   "id": "5c175dfe-5dd4-47b8-8e0c-fed565318c22",
   "metadata": {},
   "outputs": [
    {
     "data": {
      "image/png": "[encoded data removed]",
      "text/plain": [
       "<Figure size 640x480 with 1 Axes>"
      ]
     },
     "metadata": {},
     "output_type": "display_data"
    }
   ],
   "source": [
    "sns.kdeplot(v['Size'], shade=True)\n",
    "plt.title('Kernel Density Estimation (KDE) of Size')\n",
    "plt.xlabel('Size')\n",
    "plt.ylabel('Density')\n",
    "plt.show()#Verimizin Normal Dağılmadığını Görüyoruz bu yüzden Size değerini Medayan Olarak Atayacağız"
   ]
  },
  {
   "cell_type": "code",
   "execution_count": 53,
   "id": "6e68304e-6c99-45cd-aef5-236bb378b240",
   "metadata": {},
   "outputs": [
    {
     "data": {
      "text/plain": [
       "13000.0"
      ]
     },
     "execution_count": 53,
     "metadata": {},
     "output_type": "execute_result"
    }
   ],
   "source": [
    "size_median=v[\"Size\"].median()\n",
    "size_median"
   ]
  },
  {
   "cell_type": "code",
   "execution_count": 55,
   "id": "a4f5eab1-b5f9-4c6b-b996-edc0a7fb0863",
   "metadata": {},
   "outputs": [],
   "source": [
    "df.loc[df[\"Size\"]==\"Varies with device\",\"Size\"]=size_median#median değerini atıyoruz"
   ]
  },
  {
   "cell_type": "code",
   "execution_count": 57,
   "id": "29661ac5-21a0-4538-b932-0de2fc27fea1",
   "metadata": {},
   "outputs": [],
   "source": [
    "df[\"Size\"]=df[\"Size\"].astype(\"float64\")"
   ]
  },
  {
   "cell_type": "markdown",
   "id": "e6579766-454d-464b-a0ae-04286339a1b6",
   "metadata": {},
   "source": [
    "## Installs Değişkeni İşlemleri"
   ]
  },
  {
   "cell_type": "code",
   "execution_count": 59,
   "id": "aad1a532-9e1f-4c37-91a3-cd0c55036cdc",
   "metadata": {},
   "outputs": [
    {
     "data": {
      "text/html": [
       "<div>\n",
       "<style scoped>\n",
       "    .dataframe tbody tr th:only-of-type {\n",
       "        vertical-align: middle;\n",
       "    }\n",
       "\n",
       "    .dataframe tbody tr th {\n",
       "        vertical-align: top;\n",
       "    }\n",
       "\n",
       "    .dataframe thead th {\n",
       "        text-align: right;\n",
       "    }\n",
       "</style>\n",
       "<table border=\"1\" class=\"dataframe\">\n",
       "  <thead>\n",
       "    <tr style=\"text-align: right;\">\n",
       "      <th></th>\n",
       "      <th>App</th>\n",
       "      <th>Category</th>\n",
       "      <th>Rating</th>\n",
       "      <th>Reviews</th>\n",
       "      <th>Size</th>\n",
       "      <th>Installs</th>\n",
       "      <th>Type</th>\n",
       "      <th>Price</th>\n",
       "      <th>Content Rating</th>\n",
       "      <th>Genres</th>\n",
       "      <th>Last Updated</th>\n",
       "      <th>Current Ver</th>\n",
       "      <th>Android Ver</th>\n",
       "    </tr>\n",
       "  </thead>\n",
       "  <tbody>\n",
       "    <tr>\n",
       "      <th>9148</th>\n",
       "      <td>Command &amp; Conquer: Rivals</td>\n",
       "      <td>FAMILY</td>\n",
       "      <td>NaN</td>\n",
       "      <td>0</td>\n",
       "      <td>13000.0</td>\n",
       "      <td>0</td>\n",
       "      <td>NaN</td>\n",
       "      <td>0</td>\n",
       "      <td>Everyone 10+</td>\n",
       "      <td>Strategy</td>\n",
       "      <td>June 28, 2018</td>\n",
       "      <td>Varies with device</td>\n",
       "      <td>Varies with device</td>\n",
       "    </tr>\n",
       "  </tbody>\n",
       "</table>\n",
       "</div>"
      ],
      "text/plain": [
       "                            App Category  Rating Reviews     Size Installs  \\\n",
       "9148  Command & Conquer: Rivals   FAMILY     NaN       0  13000.0        0   \n",
       "\n",
       "     Type Price Content Rating    Genres   Last Updated         Current Ver  \\\n",
       "9148  NaN     0   Everyone 10+  Strategy  June 28, 2018  Varies with device   \n",
       "\n",
       "             Android Ver  \n",
       "9148  Varies with device  "
      ]
     },
     "execution_count": 59,
     "metadata": {},
     "output_type": "execute_result"
    }
   ],
   "source": [
    "df[df[\"Installs\"]==\"0\"]"
   ]
  },
  {
   "cell_type": "code",
   "execution_count": 61,
   "id": "865c32ef-a3ac-48bc-8c0c-e7af6522e9be",
   "metadata": {},
   "outputs": [],
   "source": [
    "a=df[(df[\"Installs\"]==\"0+\") | (df[\"Installs\"]==\"0\")].index\n",
    "df.drop(index=a,inplace=True)"
   ]
  },
  {
   "cell_type": "code",
   "execution_count": 63,
   "id": "1e5f2f92-c4ed-4f6d-a098-d20df73719ca",
   "metadata": {},
   "outputs": [
    {
     "data": {
      "text/plain": [
       "array(['10,000+', '500,000+', '5,000,000+', '50,000,000+', '100,000+',\n",
       "       '50,000+', '1,000,000+', '10,000,000+', '5,000+', '100,000,000+',\n",
       "       '1,000,000,000+', '1,000+', '500,000,000+', '50+', '100+', '500+',\n",
       "       '10+', '1+', '5+'], dtype=object)"
      ]
     },
     "execution_count": 63,
     "metadata": {},
     "output_type": "execute_result"
    }
   ],
   "source": [
    "df[\"Installs\"].unique()"
   ]
  },
  {
   "cell_type": "code",
   "execution_count": 65,
   "id": "d88c2e21-3b11-4462-9265-794de838c5c6",
   "metadata": {},
   "outputs": [],
   "source": [
    "df[\"Installs\"]=df[\"Installs\"].replace(\"\\+\", \"\",regex=True)  #değişkenimizi float64 türüne çeviriyoruz\n",
    "df[\"Installs\"]=df[\"Installs\"].replace(\",\", \"\",regex=True).astype(\"float64\").round(1)"
   ]
  },
  {
   "cell_type": "code",
   "execution_count": 67,
   "id": "49b99492-b427-446e-8ad9-56a73da0d5dc",
   "metadata": {},
   "outputs": [
    {
     "data": {
      "text/plain": [
       "0           10000.0\n",
       "1          500000.0\n",
       "2         5000000.0\n",
       "3        50000000.0\n",
       "4          100000.0\n",
       "            ...    \n",
       "10836        5000.0\n",
       "10837         100.0\n",
       "10838        1000.0\n",
       "10839        1000.0\n",
       "10840    10000000.0\n",
       "Name: Installs, Length: 10825, dtype: float64"
      ]
     },
     "execution_count": 67,
     "metadata": {},
     "output_type": "execute_result"
    }
   ],
   "source": [
    "df[\"Installs\"]"
   ]
  },
  {
   "cell_type": "markdown",
   "id": "d127b3d4-281e-4807-8404-efb095e83225",
   "metadata": {},
   "source": [
    "## Price değişkeni işlemleri"
   ]
  },
  {
   "cell_type": "code",
   "execution_count": 69,
   "id": "8137ed26-6804-418b-94ee-a5168ff8bfe2",
   "metadata": {},
   "outputs": [
    {
     "data": {
      "text/plain": [
       "array(['0', '$4.99', '$3.99', '$6.99', '$1.49', '$2.99', '$7.99', '$5.99',\n",
       "       '$3.49', '$1.99', '$9.99', '$7.49', '$0.99', '$9.00', '$5.49',\n",
       "       '$10.00', '$24.99', '$11.99', '$79.99', '$16.99', '$14.99',\n",
       "       '$1.00', '$29.99', '$12.99', '$2.49', '$10.99', '$1.50', '$19.99',\n",
       "       '$15.99', '$33.99', '$74.99', '$39.99', '$3.95', '$4.49', '$1.70',\n",
       "       '$8.99', '$2.00', '$3.88', '$25.99', '$399.99', '$17.99',\n",
       "       '$400.00', '$3.02', '$1.76', '$4.84', '$4.77', '$1.61', '$2.50',\n",
       "       '$1.59', '$6.49', '$1.29', '$5.00', '$299.99', '$379.99', '$37.99',\n",
       "       '$18.99', '$389.99', '$19.90', '$8.49', '$1.75', '$14.00', '$4.85',\n",
       "       '$46.99', '$109.99', '$3.08', '$2.59', '$4.80', '$1.96', '$19.40',\n",
       "       '$3.90', '$4.59', '$15.46', '$3.04', '$13.99', '$4.29', '$2.60',\n",
       "       '$3.28', '$4.60', '$28.99', '$2.95', '$2.90', '$1.97', '$89.99',\n",
       "       '$2.56', '$3.61', '$1.26', '$1.20', '$1.04'], dtype=object)"
      ]
     },
     "execution_count": 69,
     "metadata": {},
     "output_type": "execute_result"
    }
   ],
   "source": [
    "df[\"Price\"].unique()"
   ]
  },
  {
   "cell_type": "code",
   "execution_count": 71,
   "id": "d0918a0c-d66d-4455-b55d-e22f42bdefa3",
   "metadata": {},
   "outputs": [
    {
     "data": {
      "text/plain": [
       "array([  0.  ,   4.99,   3.99,   6.99,   1.49,   2.99,   7.99,   5.99,\n",
       "         3.49,   1.99,   9.99,   7.49,   0.99,   9.  ,   5.49,  10.  ,\n",
       "        24.99,  11.99,  79.99,  16.99,  14.99,   1.  ,  29.99,  12.99,\n",
       "         2.49,  10.99,   1.5 ,  19.99,  15.99,  33.99,  74.99,  39.99,\n",
       "         3.95,   4.49,   1.7 ,   8.99,   2.  ,   3.88,  25.99, 399.99,\n",
       "        17.99, 400.  ,   3.02,   1.76,   4.84,   4.77,   1.61,   2.5 ,\n",
       "         1.59,   6.49,   1.29,   5.  , 299.99, 379.99,  37.99,  18.99,\n",
       "       389.99,  19.9 ,   8.49,   1.75,  14.  ,   4.85,  46.99, 109.99,\n",
       "         3.08,   2.59,   4.8 ,   1.96,  19.4 ,   3.9 ,   4.59,  15.46,\n",
       "         3.04,  13.99,   4.29,   2.6 ,   3.28,   4.6 ,  28.99,   2.95,\n",
       "         2.9 ,   1.97,  89.99,   2.56,   3.61,   1.26,   1.2 ,   1.04])"
      ]
     },
     "execution_count": 71,
     "metadata": {},
     "output_type": "execute_result"
    }
   ],
   "source": [
    "df[\"Price\"]=df[\"Price\"].replace(\"\\$\",\"\",regex=True).astype(\"float64\")\n",
    "df[\"Price\"].unique()\n"
   ]
  },
  {
   "cell_type": "markdown",
   "id": "e1101079-7a05-49c1-acc6-90d5e333f522",
   "metadata": {},
   "source": [
    "## Content Rating Değişkeninin İncelenmesi"
   ]
  },
  {
   "cell_type": "code",
   "execution_count": 73,
   "id": "6b634e14-daaa-416d-9597-1ce27bf9b7de",
   "metadata": {},
   "outputs": [],
   "source": [
    "df.rename(columns={\"Content Rating\":\"Content_Rating\"},inplace=True)\n"
   ]
  },
  {
   "cell_type": "code",
   "execution_count": 75,
   "id": "d033c381-4b80-4d59-b133-36ea577fb9c1",
   "metadata": {},
   "outputs": [
    {
     "data": {
      "text/html": [
       "<div>\n",
       "<style scoped>\n",
       "    .dataframe tbody tr th:only-of-type {\n",
       "        vertical-align: middle;\n",
       "    }\n",
       "\n",
       "    .dataframe tbody tr th {\n",
       "        vertical-align: top;\n",
       "    }\n",
       "\n",
       "    .dataframe thead th {\n",
       "        text-align: right;\n",
       "    }\n",
       "</style>\n",
       "<table border=\"1\" class=\"dataframe\">\n",
       "  <thead>\n",
       "    <tr style=\"text-align: right;\">\n",
       "      <th></th>\n",
       "      <th>App</th>\n",
       "      <th>Category</th>\n",
       "      <th>Rating</th>\n",
       "      <th>Reviews</th>\n",
       "      <th>Size</th>\n",
       "      <th>Installs</th>\n",
       "      <th>Type</th>\n",
       "      <th>Price</th>\n",
       "      <th>Content_Rating</th>\n",
       "      <th>Genres</th>\n",
       "      <th>Last Updated</th>\n",
       "      <th>Current Ver</th>\n",
       "      <th>Android Ver</th>\n",
       "    </tr>\n",
       "  </thead>\n",
       "  <tbody>\n",
       "    <tr>\n",
       "      <th>7312</th>\n",
       "      <td>Best CG Photography</td>\n",
       "      <td>FAMILY</td>\n",
       "      <td>NaN</td>\n",
       "      <td>1</td>\n",
       "      <td>2500.0</td>\n",
       "      <td>500.0</td>\n",
       "      <td>Free</td>\n",
       "      <td>0.0</td>\n",
       "      <td>Unrated</td>\n",
       "      <td>Entertainment</td>\n",
       "      <td>June 24, 2015</td>\n",
       "      <td>5.2</td>\n",
       "      <td>3.0 and up</td>\n",
       "    </tr>\n",
       "    <tr>\n",
       "      <th>8266</th>\n",
       "      <td>DC Universe Online Map</td>\n",
       "      <td>TOOLS</td>\n",
       "      <td>4.1</td>\n",
       "      <td>1186</td>\n",
       "      <td>6400.0</td>\n",
       "      <td>50000.0</td>\n",
       "      <td>Free</td>\n",
       "      <td>0.0</td>\n",
       "      <td>Unrated</td>\n",
       "      <td>Tools</td>\n",
       "      <td>February 27, 2012</td>\n",
       "      <td>1.3</td>\n",
       "      <td>2.3.3 and up</td>\n",
       "    </tr>\n",
       "  </tbody>\n",
       "</table>\n",
       "</div>"
      ],
      "text/plain": [
       "                         App Category  Rating Reviews    Size  Installs  Type  \\\n",
       "7312     Best CG Photography   FAMILY     NaN       1  2500.0     500.0  Free   \n",
       "8266  DC Universe Online Map    TOOLS     4.1    1186  6400.0   50000.0  Free   \n",
       "\n",
       "      Price Content_Rating         Genres       Last Updated Current Ver  \\\n",
       "7312    0.0        Unrated  Entertainment      June 24, 2015         5.2   \n",
       "8266    0.0        Unrated          Tools  February 27, 2012         1.3   \n",
       "\n",
       "       Android Ver  \n",
       "7312    3.0 and up  \n",
       "8266  2.3.3 and up  "
      ]
     },
     "execution_count": 75,
     "metadata": {},
     "output_type": "execute_result"
    }
   ],
   "source": [
    "df[df[\"Content_Rating\"]==\"Unrated\"]"
   ]
  },
  {
   "cell_type": "code",
   "execution_count": 77,
   "id": "bb91109d-becd-46f8-9df8-2ce9483b5c07",
   "metadata": {},
   "outputs": [
    {
     "data": {
      "text/html": [
       "<div>\n",
       "<style scoped>\n",
       "    .dataframe tbody tr th:only-of-type {\n",
       "        vertical-align: middle;\n",
       "    }\n",
       "\n",
       "    .dataframe tbody tr th {\n",
       "        vertical-align: top;\n",
       "    }\n",
       "\n",
       "    .dataframe thead th {\n",
       "        text-align: right;\n",
       "    }\n",
       "</style>\n",
       "<table border=\"1\" class=\"dataframe\">\n",
       "  <thead>\n",
       "    <tr style=\"text-align: right;\">\n",
       "      <th></th>\n",
       "      <th>App</th>\n",
       "      <th>Category</th>\n",
       "      <th>Rating</th>\n",
       "      <th>Reviews</th>\n",
       "      <th>Size</th>\n",
       "      <th>Installs</th>\n",
       "      <th>Type</th>\n",
       "      <th>Price</th>\n",
       "      <th>Content_Rating</th>\n",
       "      <th>Genres</th>\n",
       "      <th>Last Updated</th>\n",
       "      <th>Current Ver</th>\n",
       "      <th>Android Ver</th>\n",
       "    </tr>\n",
       "  </thead>\n",
       "  <tbody>\n",
       "  </tbody>\n",
       "</table>\n",
       "</div>"
      ],
      "text/plain": [
       "Empty DataFrame\n",
       "Columns: [App, Category, Rating, Reviews, Size, Installs, Type, Price, Content_Rating, Genres, Last Updated, Current Ver, Android Ver]\n",
       "Index: []"
      ]
     },
     "execution_count": 77,
     "metadata": {},
     "output_type": "execute_result"
    }
   ],
   "source": [
    "a=df[df[\"Content_Rating\"]==\"Unrated\"].index\n",
    "df.drop(index=a,inplace=True)\n",
    "df[df[\"Content_Rating\"]==\"Unrated\"]"
   ]
  },
  {
   "cell_type": "markdown",
   "id": "96a2dd47-f9d9-46ed-8d24-a563cef845df",
   "metadata": {},
   "source": [
    "## Reviews değişkeni işlemleri"
   ]
  },
  {
   "cell_type": "code",
   "execution_count": 79,
   "id": "3713dccc-54ae-478d-806e-09d894d12648",
   "metadata": {},
   "outputs": [
    {
     "data": {
      "text/plain": [
       "dtype('O')"
      ]
     },
     "execution_count": 79,
     "metadata": {},
     "output_type": "execute_result"
    }
   ],
   "source": [
    "df[\"Reviews\"].dtype"
   ]
  },
  {
   "cell_type": "code",
   "execution_count": 81,
   "id": "826d569a-887c-44bb-9ea3-1ccb80d248ae",
   "metadata": {},
   "outputs": [
    {
     "data": {
      "text/plain": [
       "False"
      ]
     },
     "execution_count": 81,
     "metadata": {},
     "output_type": "execute_result"
    }
   ],
   "source": [
    "df[\"Reviews\"].str.isalpha().any()"
   ]
  },
  {
   "cell_type": "code",
   "execution_count": 83,
   "id": "093c72c7-a1f0-415c-b20e-71f656f005b9",
   "metadata": {},
   "outputs": [],
   "source": [
    "df[\"Reviews\"]=df[\"Reviews\"].astype(\"float64\")"
   ]
  },
  {
   "cell_type": "code",
   "execution_count": 85,
   "id": "ba0ee12d-1c78-4da3-8144-d61f478b975f",
   "metadata": {},
   "outputs": [
    {
     "data": {
      "text/plain": [
       "dtype('float64')"
      ]
     },
     "execution_count": 85,
     "metadata": {},
     "output_type": "execute_result"
    }
   ],
   "source": [
    "df[\"Reviews\"].dtype   #Object değerimizi float64 türüne çevirdik"
   ]
  },
  {
   "cell_type": "markdown",
   "id": "3636dec8-4f14-4c4e-a357-cd756d21de04",
   "metadata": {},
   "source": [
    "## Genres Değişkeni işlemleri"
   ]
  },
  {
   "cell_type": "code",
   "execution_count": 87,
   "id": "3b8e1caf-3376-460d-8c96-1a82e54c12c6",
   "metadata": {},
   "outputs": [],
   "source": [
    "df[\"Genres\"] = df[\"Genres\"].str.split(\";\").str[0]"
   ]
  },
  {
   "cell_type": "code",
   "execution_count": 89,
   "id": "85aaeaf8-9479-4ae2-ad8e-63887238de86",
   "metadata": {
    "scrolled": true
   },
   "outputs": [
    {
     "data": {
      "text/plain": [
       "Genres\n",
       "Tools                      842\n",
       "Entertainment              666\n",
       "Education                  643\n",
       "Medical                    462\n",
       "Business                   459\n",
       "Productivity               423\n",
       "Sports                     402\n",
       "Personalization            391\n",
       "Communication              388\n",
       "Action                     382\n",
       "Lifestyle                  382\n",
       "Finance                    364\n",
       "Health & Fitness           343\n",
       "Photography                335\n",
       "Social                     293\n",
       "News & Magazines           282\n",
       "Casual                     270\n",
       "Shopping                   260\n",
       "Travel & Local             257\n",
       "Arcade                     237\n",
       "Books & Reference          234\n",
       "Dating                     234\n",
       "Simulation                 218\n",
       "Video Players & Editors    178\n",
       "Puzzle                     167\n",
       "Maps & Navigation          137\n",
       "Food & Drink               127\n",
       "Role Playing               123\n",
       "Racing                     119\n",
       "Educational                112\n",
       "Strategy                   110\n",
       "Adventure                   91\n",
       "House & Home                88\n",
       "Auto & Vehicles             85\n",
       "Libraries & Demo            85\n",
       "Weather                     82\n",
       "Art & Design                68\n",
       "Events                      64\n",
       "Board                       63\n",
       "Parenting                   60\n",
       "Comics                      60\n",
       "Beauty                      53\n",
       "Card                        51\n",
       "Trivia                      39\n",
       "Casino                      39\n",
       "Word                        29\n",
       "Music                       25\n",
       "Music & Audio                1\n",
       "Name: count, dtype: int64"
      ]
     },
     "execution_count": 89,
     "metadata": {},
     "output_type": "execute_result"
    }
   ],
   "source": [
    "df[\"Genres\"].value_counts()"
   ]
  },
  {
   "cell_type": "markdown",
   "id": "ea700f72-e75c-42bc-9ed7-b25ee0564427",
   "metadata": {},
   "source": [
    "## Kalan işlemler"
   ]
  },
  {
   "cell_type": "code",
   "execution_count": 91,
   "id": "e7c0e1b3-3dec-489a-9b75-b26ab931c2b0",
   "metadata": {},
   "outputs": [],
   "source": [
    "df.rename(columns={\"Last Updated\":\"Last_Updated\"},inplace=True)"
   ]
  },
  {
   "cell_type": "code",
   "execution_count": 93,
   "id": "60aca70d-6640-4d6d-946e-b8968e60ae9d",
   "metadata": {},
   "outputs": [],
   "source": [
    "df.rename(columns={\"Current Ver\":\"Current_Ver\"},inplace=True)"
   ]
  },
  {
   "cell_type": "code",
   "execution_count": 95,
   "id": "ac404d64-bb35-4f07-87e8-62a1cfaf1461",
   "metadata": {},
   "outputs": [],
   "source": [
    "df.rename(columns={\"Android Ver\":\"Android_Ver\"},inplace=True)"
   ]
  },
  {
   "cell_type": "markdown",
   "id": "688824b0-79cd-42c0-b878-7bc975c7b86e",
   "metadata": {},
   "source": [
    "## Null Değerlerin İncelenmesi ve Doldurulması"
   ]
  },
  {
   "cell_type": "code",
   "execution_count": 97,
   "id": "38a30e36-8be8-4a1f-bb8d-ffe3e59b25dd",
   "metadata": {},
   "outputs": [
    {
     "data": {
      "text/plain": [
       "App                  0\n",
       "Category             0\n",
       "Rating            1458\n",
       "Reviews              0\n",
       "Size                 0\n",
       "Installs             0\n",
       "Type                 0\n",
       "Price                0\n",
       "Content_Rating       0\n",
       "Genres               0\n",
       "Last_Updated         0\n",
       "Current_Ver          8\n",
       "Android_Ver          2\n",
       "dtype: int64"
      ]
     },
     "execution_count": 97,
     "metadata": {},
     "output_type": "execute_result"
    }
   ],
   "source": [
    "df.isna().sum()"
   ]
  },
  {
   "cell_type": "code",
   "execution_count": 99,
   "id": "e6052a1e-201d-4496-91fb-82988e4d5b23",
   "metadata": {
    "scrolled": true
   },
   "outputs": [
    {
     "data": {
      "text/plain": [
       "array([4.1, 3.9, 4.7, 4.5, 4.3, 4.4, 3.8, 4.2, 4.6, 3.2, 4. , nan, 4.8,\n",
       "       4.9, 3.6, 3.7, 3.3, 3.4, 3.5, 3.1, 5. , 2.6, 3. , 1.9, 2.5, 2.8,\n",
       "       2.7, 1. , 2.9, 2.3, 2.2, 1.7, 2. , 1.8, 2.4, 1.6, 2.1, 1.4, 1.5,\n",
       "       1.2])"
      ]
     },
     "execution_count": 99,
     "metadata": {},
     "output_type": "execute_result"
    }
   ],
   "source": [
    "df[\"Rating\"].unique()"
   ]
  },
  {
   "cell_type": "code",
   "execution_count": 101,
   "id": "8ce44d20-3064-4daa-8b58-da8248cabe2c",
   "metadata": {},
   "outputs": [
    {
     "name": "stdout",
     "output_type": "stream",
     "text": [
      "float64\n"
     ]
    }
   ],
   "source": [
    "print(df[\"Rating\"].dtype)"
   ]
  },
  {
   "cell_type": "code",
   "execution_count": 103,
   "id": "30f43650-5ab2-42af-b90d-0c827bbff654",
   "metadata": {},
   "outputs": [],
   "source": [
    "import missingno as msno"
   ]
  },
  {
   "cell_type": "code",
   "execution_count": 741,
   "id": "7dd96398-b8a1-4cb4-ada8-d23768417469",
   "metadata": {},
   "outputs": [
    {
     "data": {
      "text/plain": [
       "<Axes: >"
      ]
     },
     "execution_count": 741,
     "metadata": {},
     "output_type": "execute_result"
    },
    {
     "data": {
      "image/png": "[encoded data removed]",
      "text/plain": [
       "<Figure size 2500x1000 with 2 Axes>"
      ]
     },
     "metadata": {},
     "output_type": "display_data"
    }
   ],
   "source": [
    "msno.matrix(df)#Görüldüğü üzere eksik rating değerlerinin diğer değişkenlerle herhangi bir bağı bulunmamaktadır"
   ]
  },
  {
   "cell_type": "code",
   "execution_count": 158,
   "id": "cd76691c-f052-4394-b15f-5b2c0a63ddf9",
   "metadata": {},
   "outputs": [],
   "source": [
    "#Rating değişklenindeki na değerleri nasıl dolduracağımızı Rating Değişkeninin dağılımına göre karar verceğiz"
   ]
  },
  {
   "cell_type": "code",
   "execution_count": 743,
   "id": "740dee0f-1287-453b-9025-91a11b5c7a6d",
   "metadata": {},
   "outputs": [
    {
     "data": {
      "text/plain": [
       "App               0\n",
       "Category          0\n",
       "Rating            0\n",
       "Reviews           0\n",
       "Size              0\n",
       "Installs          0\n",
       "Type              0\n",
       "Price             0\n",
       "Content_Rating    0\n",
       "Genres            0\n",
       "Last Updated      0\n",
       "Current Ver       4\n",
       "Android Ver       2\n",
       "dtype: int64"
      ]
     },
     "execution_count": 743,
     "metadata": {},
     "output_type": "execute_result"
    }
   ],
   "source": [
    "rating=df[df[\"Rating\"].notnull()].index\n",
    "df.loc[rating].isnull().sum()"
   ]
  },
  {
   "cell_type": "code",
   "execution_count": 745,
   "id": "80cd1a18-ecb3-438c-9ff0-eed98c369a87",
   "metadata": {},
   "outputs": [
    {
     "data": {
      "image/png": "[encoded data removed]",
      "text/plain": [
       "<Figure size 640x480 with 1 Axes>"
      ]
     },
     "metadata": {},
     "output_type": "display_data"
    }
   ],
   "source": [
    "sns.kdeplot(df.loc[rating,\"Rating\"])#Verimizin Normal Dağılmadığını Görüyoruz Bu Yüzden Medyan Değeri İle Değişim Yapacağız\n",
    "plt.show()"
   ]
  },
  {
   "cell_type": "code",
   "execution_count": 747,
   "id": "0ce3b68f-dda4-4c57-a5e4-858c2768bf7d",
   "metadata": {},
   "outputs": [
    {
     "data": {
      "text/plain": [
       "4.3"
      ]
     },
     "execution_count": 747,
     "metadata": {},
     "output_type": "execute_result"
    }
   ],
   "source": [
    "rating_median=df.loc[rating,\"Rating\"].median()\n",
    "rating_median"
   ]
  },
  {
   "cell_type": "code",
   "execution_count": 749,
   "id": "9f1d3c6e-6210-4aef-a783-37cf2a6e23b6",
   "metadata": {},
   "outputs": [
    {
     "data": {
      "text/plain": [
       "0"
      ]
     },
     "execution_count": 749,
     "metadata": {},
     "output_type": "execute_result"
    }
   ],
   "source": [
    "df[\"Rating\"].fillna(rating_median,inplace=True)\n",
    "df[\"Rating\"].isnull().sum()\n"
   ]
  },
  {
   "cell_type": "code",
   "execution_count": 751,
   "id": "8808f433-7025-40ef-9974-baf15a3bfd21",
   "metadata": {},
   "outputs": [
    {
     "data": {
      "text/plain": [
       "App               0\n",
       "Category          0\n",
       "Rating            0\n",
       "Reviews           0\n",
       "Size              0\n",
       "Installs          0\n",
       "Type              0\n",
       "Price             0\n",
       "Content_Rating    0\n",
       "Genres            0\n",
       "Last Updated      0\n",
       "Current Ver       8\n",
       "Android Ver       2\n",
       "dtype: int64"
      ]
     },
     "execution_count": 751,
     "metadata": {},
     "output_type": "execute_result"
    }
   ],
   "source": [
    "df.isnull().sum()#Geri kalan null değerleri drop edebiliriz sayıları az olduğu için"
   ]
  },
  {
   "cell_type": "code",
   "execution_count": 753,
   "id": "fe1d6da5-e5f2-46c4-933e-94a97e0fdcf9",
   "metadata": {},
   "outputs": [],
   "source": [
    "df.dropna(inplace=True)"
   ]
  },
  {
   "cell_type": "code",
   "execution_count": 755,
   "id": "e59e74dc-b117-4c85-9fe2-db19087ef36e",
   "metadata": {
    "scrolled": true
   },
   "outputs": [
    {
     "data": {
      "text/plain": [
       "App               0\n",
       "Category          0\n",
       "Rating            0\n",
       "Reviews           0\n",
       "Size              0\n",
       "Installs          0\n",
       "Type              0\n",
       "Price             0\n",
       "Content_Rating    0\n",
       "Genres            0\n",
       "Last Updated      0\n",
       "Current Ver       0\n",
       "Android Ver       0\n",
       "dtype: int64"
      ]
     },
     "execution_count": 755,
     "metadata": {},
     "output_type": "execute_result"
    }
   ],
   "source": [
    "df.isnull().sum()#Görüldüğü Üzere Herhangi Bir Null Değer Kalmadı"
   ]
  },
  {
   "cell_type": "code",
   "execution_count": null,
   "id": "0000eeef-6bb0-43ea-9fb3-9b287fcd8b8d",
   "metadata": {},
   "outputs": [],
   "source": []
  },
  {
   "cell_type": "markdown",
   "id": "6a78b2e3-22b2-47e8-a13d-75cdf9d614a5",
   "metadata": {},
   "source": [
    "## Aykırı Değerlerin İncelenmesi Ve Doldurulması"
   ]
  },
  {
   "cell_type": "code",
   "execution_count": 758,
   "id": "a38c79dd-cac6-42d0-90a7-b84d28c74a70",
   "metadata": {},
   "outputs": [
    {
     "data": {
      "text/html": [
       "<div>\n",
       "<style scoped>\n",
       "    .dataframe tbody tr th:only-of-type {\n",
       "        vertical-align: middle;\n",
       "    }\n",
       "\n",
       "    .dataframe tbody tr th {\n",
       "        vertical-align: top;\n",
       "    }\n",
       "\n",
       "    .dataframe thead th {\n",
       "        text-align: right;\n",
       "    }\n",
       "</style>\n",
       "<table border=\"1\" class=\"dataframe\">\n",
       "  <thead>\n",
       "    <tr style=\"text-align: right;\">\n",
       "      <th></th>\n",
       "      <th>count</th>\n",
       "      <th>unique</th>\n",
       "      <th>top</th>\n",
       "      <th>freq</th>\n",
       "    </tr>\n",
       "  </thead>\n",
       "  <tbody>\n",
       "    <tr>\n",
       "      <th>App</th>\n",
       "      <td>10813</td>\n",
       "      <td>9632</td>\n",
       "      <td>ROBLOX</td>\n",
       "      <td>9</td>\n",
       "    </tr>\n",
       "    <tr>\n",
       "      <th>Category</th>\n",
       "      <td>10813</td>\n",
       "      <td>33</td>\n",
       "      <td>FAMILY</td>\n",
       "      <td>1965</td>\n",
       "    </tr>\n",
       "    <tr>\n",
       "      <th>Type</th>\n",
       "      <td>10813</td>\n",
       "      <td>2</td>\n",
       "      <td>Free</td>\n",
       "      <td>10026</td>\n",
       "    </tr>\n",
       "    <tr>\n",
       "      <th>Content_Rating</th>\n",
       "      <td>10813</td>\n",
       "      <td>5</td>\n",
       "      <td>Everyone</td>\n",
       "      <td>8692</td>\n",
       "    </tr>\n",
       "    <tr>\n",
       "      <th>Genres</th>\n",
       "      <td>10813</td>\n",
       "      <td>48</td>\n",
       "      <td>Tools</td>\n",
       "      <td>840</td>\n",
       "    </tr>\n",
       "    <tr>\n",
       "      <th>Last Updated</th>\n",
       "      <td>10813</td>\n",
       "      <td>1374</td>\n",
       "      <td>August 3, 2018</td>\n",
       "      <td>326</td>\n",
       "    </tr>\n",
       "    <tr>\n",
       "      <th>Current Ver</th>\n",
       "      <td>10813</td>\n",
       "      <td>2829</td>\n",
       "      <td>Varies with device</td>\n",
       "      <td>1458</td>\n",
       "    </tr>\n",
       "    <tr>\n",
       "      <th>Android Ver</th>\n",
       "      <td>10813</td>\n",
       "      <td>33</td>\n",
       "      <td>4.1 and up</td>\n",
       "      <td>2446</td>\n",
       "    </tr>\n",
       "  </tbody>\n",
       "</table>\n",
       "</div>"
      ],
      "text/plain": [
       "                count unique                 top   freq\n",
       "App             10813   9632              ROBLOX      9\n",
       "Category        10813     33              FAMILY   1965\n",
       "Type            10813      2                Free  10026\n",
       "Content_Rating  10813      5            Everyone   8692\n",
       "Genres          10813     48               Tools    840\n",
       "Last Updated    10813   1374      August 3, 2018    326\n",
       "Current Ver     10813   2829  Varies with device   1458\n",
       "Android Ver     10813     33          4.1 and up   2446"
      ]
     },
     "execution_count": 758,
     "metadata": {},
     "output_type": "execute_result"
    }
   ],
   "source": [
    "df.describe(include=\"O\").T"
   ]
  },
  {
   "cell_type": "code",
   "execution_count": 760,
   "id": "c724b33c-16e8-4191-ac6a-f8acd58d289c",
   "metadata": {},
   "outputs": [
    {
     "data": {
      "text/plain": [
       "Price\n",
       "2          1\n",
       "110        1\n",
       "47         1\n",
       "5          1\n",
       "14         1\n",
       "       ...  \n",
       "2         72\n",
       "5         72\n",
       "3        128\n",
       "1        146\n",
       "0      10026\n",
       "Name: count, Length: 88, dtype: int64"
      ]
     },
     "execution_count": 760,
     "metadata": {},
     "output_type": "execute_result"
    }
   ],
   "source": [
    "df[\"Price\"].value_counts(ascending=True)"
   ]
  },
  {
   "cell_type": "code",
   "execution_count": 460,
   "id": "9298632b-8dea-48c0-819a-a95c4e5b0d9a",
   "metadata": {},
   "outputs": [
    {
     "name": "stdout",
     "output_type": "stream",
     "text": [
      "<class 'pandas.core.frame.DataFrame'>\n",
      "Index: 10829 entries, 0 to 10840\n",
      "Data columns (total 13 columns):\n",
      " #   Column          Non-Null Count  Dtype  \n",
      "---  ------          --------------  -----  \n",
      " 0   App             10829 non-null  object \n",
      " 1   Category        10829 non-null  object \n",
      " 2   Rating          10829 non-null  float64\n",
      " 3   Reviews         10829 non-null  object \n",
      " 4   Size            10829 non-null  float64\n",
      " 5   Installs        10829 non-null  object \n",
      " 6   Type            10829 non-null  object \n",
      " 7   Price           10829 non-null  object \n",
      " 8   Content Rating  10829 non-null  object \n",
      " 9   Genres          10829 non-null  object \n",
      " 10  Last Updated    10829 non-null  object \n",
      " 11  Current Ver     10829 non-null  object \n",
      " 12  Android Ver     10829 non-null  object \n",
      "dtypes: float64(2), object(11)\n",
      "memory usage: 1.2+ MB\n"
     ]
    }
   ],
   "source": [
    "df1.info()#bakacağımız numeric değerler Size ve Reviews"
   ]
  },
  {
   "cell_type": "code",
   "execution_count": 764,
   "id": "a1fac472-f2e2-41c1-aca9-a8c7b4f902d0",
   "metadata": {},
   "outputs": [
    {
     "data": {
      "image/png": "[encoded data removed]",
      "text/plain": [
       "<Figure size 640x480 with 1 Axes>"
      ]
     },
     "metadata": {},
     "output_type": "display_data"
    }
   ],
   "source": [
    "sns.boxplot(x=df[\"Size\"])\n",
    "sns.set(rc={\"figure.dpi\":100, \"figure.figsize\":(6,4)})\n",
    "plt.show()"
   ]
  },
  {
   "cell_type": "code",
   "execution_count": 357,
   "id": "3f2efbba-fbed-4b59-8d93-1fe524da458a",
   "metadata": {},
   "outputs": [],
   "source": [
    "# Size Verimizde çok fazla aykırı değer olduğundan ve normal dağılmadığından dolayı z score yerine IQR kullanacağız "
   ]
  },
  {
   "cell_type": "code",
   "execution_count": 766,
   "id": "8ce5792a-7962-4c1a-a7fa-db3f310528ed",
   "metadata": {},
   "outputs": [
    {
     "data": {
      "text/plain": [
       "5900.0"
      ]
     },
     "execution_count": 766,
     "metadata": {},
     "output_type": "execute_result"
    }
   ],
   "source": [
    "Q1=df[\"Size\"].quantile(0.25)\n",
    "Q1"
   ]
  },
  {
   "cell_type": "code",
   "execution_count": 768,
   "id": "50ddb87c-0781-42db-a6e4-332e611a8cca",
   "metadata": {},
   "outputs": [
    {
     "data": {
      "text/plain": [
       "26000.0"
      ]
     },
     "execution_count": 768,
     "metadata": {},
     "output_type": "execute_result"
    }
   ],
   "source": [
    "Q3=df[\"Size\"].quantile(0.75)\n",
    "Q3"
   ]
  },
  {
   "cell_type": "code",
   "execution_count": 770,
   "id": "33a79237-b869-4399-be4c-f87b6ce7e176",
   "metadata": {},
   "outputs": [
    {
     "data": {
      "text/plain": [
       "20100.0"
      ]
     },
     "execution_count": 770,
     "metadata": {},
     "output_type": "execute_result"
    }
   ],
   "source": [
    "IQR=Q3-Q1\n",
    "IQR"
   ]
  },
  {
   "cell_type": "code",
   "execution_count": 772,
   "id": "8ec6d620-053a-4514-8227-3a3eb418cf60",
   "metadata": {},
   "outputs": [
    {
     "data": {
      "text/plain": [
       "56150.0"
      ]
     },
     "execution_count": 772,
     "metadata": {},
     "output_type": "execute_result"
    }
   ],
   "source": [
    "üst_sinir_size=Q3+1.5*IQR\n",
    "üst_sinir_size"
   ]
  },
  {
   "cell_type": "code",
   "execution_count": 774,
   "id": "89babf19-a093-4ad9-8917-58e71e085fd4",
   "metadata": {},
   "outputs": [
    {
     "data": {
      "text/plain": [
       "-24250.0"
      ]
     },
     "execution_count": 774,
     "metadata": {},
     "output_type": "execute_result"
    }
   ],
   "source": [
    "alt_sinir_size=Q1-1.5*IQR#alt sınır - çıktığı için sadece üst değerlere odaklanacağız\n",
    "alt_sinir_size"
   ]
  },
  {
   "cell_type": "code",
   "execution_count": 778,
   "id": "041517b9-6bd6-4492-8061-f6b6a40472ab",
   "metadata": {},
   "outputs": [
    {
     "name": "stdout",
     "output_type": "stream",
     "text": [
      "<class 'pandas.core.frame.DataFrame'>\n",
      "Index: 873 entries, 51 to 10824\n",
      "Data columns (total 13 columns):\n",
      " #   Column          Non-Null Count  Dtype  \n",
      "---  ------          --------------  -----  \n",
      " 0   App             873 non-null    object \n",
      " 1   Category        873 non-null    object \n",
      " 2   Rating          873 non-null    float64\n",
      " 3   Reviews         873 non-null    float64\n",
      " 4   Size            873 non-null    float64\n",
      " 5   Installs        873 non-null    float64\n",
      " 6   Type            873 non-null    object \n",
      " 7   Price           873 non-null    float64\n",
      " 8   Content_Rating  873 non-null    object \n",
      " 9   Genres          873 non-null    object \n",
      " 10  Last Updated    873 non-null    object \n",
      " 11  Current Ver     873 non-null    object \n",
      " 12  Android Ver     873 non-null    object \n",
      "dtypes: float64(5), object(8)\n",
      "memory usage: 95.5+ KB\n"
     ]
    }
   ],
   "source": [
    "df.loc[df[\"Size\"]>üst_sinir_size].info()#873 Tane Aykırı Değerimiz Var"
   ]
  },
  {
   "cell_type": "code",
   "execution_count": 407,
   "id": "0ed0d524-3a28-4ce2-bbda-2ac923c8a046",
   "metadata": {},
   "outputs": [],
   "source": [
    "#Aykırı Değer Sayımız Çok Olduğundan Ve Verimiz çarpık Dağıldığı için Median ile değiştireceğiz"
   ]
  },
  {
   "cell_type": "code",
   "execution_count": 782,
   "id": "9a33ec4d-7c99-42ad-93c6-0ad36e0cf53c",
   "metadata": {},
   "outputs": [],
   "source": [
    "df.loc[df[\"Size\"]>üst_sinir_size,\"Size\"]=df[\"Size\"].median()\n"
   ]
  },
  {
   "cell_type": "code",
   "execution_count": 784,
   "id": "2822a2a9-f0dc-4126-8a8c-7905ada79bd4",
   "metadata": {},
   "outputs": [
    {
     "name": "stdout",
     "output_type": "stream",
     "text": [
      "<class 'pandas.core.frame.DataFrame'>\n",
      "Index: 0 entries\n",
      "Data columns (total 13 columns):\n",
      " #   Column          Non-Null Count  Dtype  \n",
      "---  ------          --------------  -----  \n",
      " 0   App             0 non-null      object \n",
      " 1   Category        0 non-null      object \n",
      " 2   Rating          0 non-null      float64\n",
      " 3   Reviews         0 non-null      float64\n",
      " 4   Size            0 non-null      float64\n",
      " 5   Installs        0 non-null      float64\n",
      " 6   Type            0 non-null      object \n",
      " 7   Price           0 non-null      float64\n",
      " 8   Content_Rating  0 non-null      object \n",
      " 9   Genres          0 non-null      object \n",
      " 10  Last Updated    0 non-null      object \n",
      " 11  Current Ver     0 non-null      object \n",
      " 12  Android Ver     0 non-null      object \n",
      "dtypes: float64(5), object(8)\n",
      "memory usage: 0.0+ bytes\n"
     ]
    }
   ],
   "source": [
    "df.loc[df[\"Size\"]>üst_sinir_size].info()#Size Değişkeninde hiç aykırı değerimiz kalmadı"
   ]
  },
  {
   "cell_type": "code",
   "execution_count": 547,
   "id": "0c82b5ed-a6a6-4f76-9d66-459f62e4ccd8",
   "metadata": {},
   "outputs": [],
   "source": [
    "#Rating değişkenindeki aykırı değerleri inceleyelim"
   ]
  },
  {
   "cell_type": "code",
   "execution_count": 786,
   "id": "97779fd9-a1ff-44f4-b981-0dbf678525db",
   "metadata": {},
   "outputs": [
    {
     "data": {
      "text/plain": [
       "<Axes: xlabel='Rating'>"
      ]
     },
     "execution_count": 786,
     "metadata": {},
     "output_type": "execute_result"
    },
    {
     "data": {
      "image/png": "[encoded data removed]",
      "text/plain": [
       "<Figure size 600x400 with 1 Axes>"
      ]
     },
     "metadata": {},
     "output_type": "display_data"
    }
   ],
   "source": [
    "sns.boxplot(x=df[\"Rating\"])"
   ]
  },
  {
   "cell_type": "code",
   "execution_count": 820,
   "id": "333e91b3-eba9-4a22-a4e2-7a6cd0170fb6",
   "metadata": {},
   "outputs": [],
   "source": [
    "# Rating Verimiz kullanıcı deneyimlerini yansıttığı için bu değişken üzerinde bi değişim yapmayacağız\n"
   ]
  },
  {
   "cell_type": "code",
   "execution_count": 829,
   "id": "54ef05a6-8e08-449f-8438-141292058b50",
   "metadata": {},
   "outputs": [
    {
     "data": {
      "text/plain": [
       "array([  0.  ,   4.99,   3.99,   6.99,   1.49,   2.99,   7.99,   5.99,\n",
       "         3.49,   1.99,   9.99,   7.49,   0.99,   9.  ,   5.49,  10.  ,\n",
       "        24.99,  11.99,  79.99,  16.99,  14.99,   1.  ,  29.99,  12.99,\n",
       "         2.49,  10.99,   1.5 ,  19.99,  15.99,  33.99,  74.99,  39.99,\n",
       "         3.95,   4.49,   1.7 ,   8.99,   2.  ,   3.88,  25.99, 399.99,\n",
       "        17.99, 400.  ,   3.02,   1.76,   4.84,   4.77,   1.61,   2.5 ,\n",
       "         1.59,   6.49,   1.29,   5.  , 299.99, 379.99,  37.99,  18.99,\n",
       "       389.99,  19.9 ,   8.49,   1.75,  14.  ,   4.85,  46.99, 109.99,\n",
       "         3.08,   2.59,   4.8 ,   1.96,  19.4 ,   3.9 ,   4.59,  15.46,\n",
       "         3.04,  13.99,   4.29,   2.6 ,   3.28,   4.6 ,  28.99,   2.95,\n",
       "         2.9 ,   1.97,  89.99,   2.56,   3.61,   1.26,   1.2 ,   1.04])"
      ]
     },
     "execution_count": 829,
     "metadata": {},
     "output_type": "execute_result"
    }
   ],
   "source": [
    "df[\"Price\"].unique()"
   ]
  },
  {
   "cell_type": "code",
   "execution_count": 788,
   "id": "5e2e6b76-74da-4207-bb65-f0a57db74311",
   "metadata": {},
   "outputs": [],
   "source": [
    "df.to_csv(\"clear_data.csv\",index=False)"
   ]
  }
 ],
 "metadata": {
  "kernelspec": {
   "display_name": "Python [conda env:base] *",
   "language": "python",
   "name": "conda-base-py"
  },
  "language_info": {
   "codemirror_mode": {
    "name": "ipython",
    "version": 3
   },
   "file_extension": ".py",
   "mimetype": "text/x-python",
   "name": "python",
   "nbconvert_exporter": "python",
   "pygments_lexer": "ipython3",
   "version": "3.12.3"
  }
 },
 "nbformat": 4,
 "nbformat_minor": 5
}
